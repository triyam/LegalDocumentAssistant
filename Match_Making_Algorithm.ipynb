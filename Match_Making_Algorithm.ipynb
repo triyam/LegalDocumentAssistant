{
  "nbformat": 4,
  "nbformat_minor": 0,
  "metadata": {
    "colab": {
      "provenance": [],
      "toc_visible": true
    },
    "kernelspec": {
      "name": "python3",
      "display_name": "Python 3"
    },
    "language_info": {
      "name": "python"
    }
  },
  "cells": [
    {
      "cell_type": "markdown",
      "source": [
        "# Generation of Random Data"
      ],
      "metadata": {
        "id": "rB5C8L4hCe8Q"
      }
    },
    {
      "cell_type": "markdown",
      "source": [
        "## Importing Libraries"
      ],
      "metadata": {
        "id": "DqLDm_ln-00b"
      }
    },
    {
      "cell_type": "code",
      "source": [
        "import random\n",
        "import pandas as pd\n",
        "import numpy as np\n",
        "from sklearn.model_selection import train_test_split\n",
        "from sklearn.preprocessing import LabelEncoder, StandardScaler\n",
        "import tensorflow as tf\n",
        "from tensorflow.keras.models import Sequential, Model\n",
        "from tensorflow.keras.layers import Input, Embedding, Dense, Flatten, Concatenate, Dropout, BatchNormalization"
      ],
      "metadata": {
        "id": "P8Wj0C1BBrSE"
      },
      "execution_count": null,
      "outputs": []
    },
    {
      "cell_type": "markdown",
      "source": [
        "## Defining the data points\n"
      ],
      "metadata": {
        "id": "kF-SushJ-9wY"
      }
    },
    {
      "cell_type": "markdown",
      "source": [
        "### Employee Attributes:\n",
        "\n",
        "*   Employee ID\n",
        "*   Department\n",
        "*   Career Goals\n",
        "*   Emotional Support Needs\n",
        "*   Skill Development Areas\n",
        "*   Preferred Coaching Style\n",
        "*   Availability"
      ],
      "metadata": {
        "id": "e0lD4wcE__5W"
      }
    },
    {
      "cell_type": "code",
      "source": [
        "departments = ['IT', 'HR', 'Finance', 'Marketing', 'Sales']\n",
        "career_goals = ['Leadership', 'Management', 'Technical Expertise', 'Soft Skills Improvement']\n",
        "emotional_support_needs = ['High', 'Medium', 'Low']\n",
        "skill_development_areas = ['Python', 'Data Analysis', 'Communication', 'Recruitment', 'Project Management']\n",
        "coaching_styles = ['Structured', 'Flexible', 'Mentorship']\n",
        "availability_hours = list(range(9, 18))  # 9 AM to 5 PM"
      ],
      "metadata": {
        "id": "JfaqqNQXClcz"
      },
      "execution_count": null,
      "outputs": []
    },
    {
      "cell_type": "markdown",
      "source": [
        "### Coach Attributes:\n",
        "*   Coach ID\n",
        "*   Certifications\n",
        "*   Specializations (Career, Emotional, Skill Up)\n",
        "*   Coaching Style\n",
        "*   Experience Level\n",
        "*   Availability"
      ],
      "metadata": {
        "id": "9TZOeU-TAG4E"
      }
    },
    {
      "cell_type": "code",
      "source": [
        "certifications = ['PCC', 'ICF', 'ACC', 'BCC']\n",
        "specializations = ['Career', 'Emotional', 'Skill Up']"
      ],
      "metadata": {
        "id": "xeiHYQN5Coji"
      },
      "execution_count": null,
      "outputs": []
    },
    {
      "cell_type": "markdown",
      "source": [
        "## Assigning Random inputs"
      ],
      "metadata": {
        "id": "V2UuhUM3AKsD"
      }
    },
    {
      "cell_type": "markdown",
      "source": [
        "### Random inputs to the Employee Attributes"
      ],
      "metadata": {
        "id": "vwVJva9dAilm"
      }
    },
    {
      "cell_type": "code",
      "source": [
        "employees = []\n",
        "for i in range(100):\n",
        "    employee = {\n",
        "        'EmployeeID': f'E{i+1}',\n",
        "        'Department': random.choice(departments),\n",
        "        'CareerGoals': random.choice(career_goals),\n",
        "        'EmotionalSupportNeeds': random.choice(emotional_support_needs),\n",
        "        'SkillDevelopmentAreas': random.sample(skill_development_areas, 2),\n",
        "        'CoachingStyle': random.choice(coaching_styles),\n",
        "        'Availability': random.sample(availability_hours, 3)\n",
        "    }\n",
        "    employees.append(employee)"
      ],
      "metadata": {
        "id": "i_MxropLCrzu"
      },
      "execution_count": null,
      "outputs": []
    },
    {
      "cell_type": "markdown",
      "source": [
        "### Random inputs to the Coach Attributes"
      ],
      "metadata": {
        "id": "hZmy7kK5Aote"
      }
    },
    {
      "cell_type": "code",
      "source": [
        "coaches = []\n",
        "for i in range(10):\n",
        "    coach = {\n",
        "        'CoachID': f'C{i+1}',\n",
        "        'Certifications': random.sample(certifications, 2),\n",
        "        'Specializations': random.sample(specializations, 2),\n",
        "        'CoachingStyle': random.choice(coaching_styles),\n",
        "        'ExperienceLevel': random.randint(1, 20),\n",
        "        'Availability': random.sample(availability_hours, 3)\n",
        "    }\n",
        "    coaches.append(coach)"
      ],
      "metadata": {
        "id": "LP3ajdy3CtuD"
      },
      "execution_count": null,
      "outputs": []
    },
    {
      "cell_type": "markdown",
      "source": [
        "## Converting them into dataframes"
      ],
      "metadata": {
        "id": "viK8rnhbA1Tu"
      }
    },
    {
      "cell_type": "markdown",
      "source": [
        "### Employee Dataframe"
      ],
      "metadata": {
        "id": "WhTmGpoqBMkz"
      }
    },
    {
      "cell_type": "code",
      "source": [
        "employees_df = pd.DataFrame(employees)\n",
        "display(employees_df)"
      ],
      "metadata": {
        "colab": {
          "base_uri": "https://localhost:8080/",
          "height": 423
        },
        "id": "2bE1WvJ0GOUT",
        "outputId": "336b6154-ca6e-41c1-ff48-0350e7e6eaef"
      },
      "execution_count": null,
      "outputs": [
        {
          "output_type": "display_data",
          "data": {
            "text/plain": [
              "   EmployeeID Department              CareerGoals EmotionalSupportNeeds  \\\n",
              "0          E1  Marketing               Management                Medium   \n",
              "1          E2         HR  Soft Skills Improvement                  High   \n",
              "2          E3    Finance      Technical Expertise                  High   \n",
              "3          E4      Sales               Management                Medium   \n",
              "4          E5    Finance  Soft Skills Improvement                  High   \n",
              "..        ...        ...                      ...                   ...   \n",
              "95        E96    Finance               Management                Medium   \n",
              "96        E97         HR               Management                Medium   \n",
              "97        E98         HR               Leadership                  High   \n",
              "98        E99         IT      Technical Expertise                Medium   \n",
              "99       E100    Finance               Leadership                Medium   \n",
              "\n",
              "           SkillDevelopmentAreas CoachingStyle  Availability  \n",
              "0        [Communication, Python]    Structured  [10, 15, 13]  \n",
              "1   [Data Analysis, Recruitment]    Mentorship   [9, 15, 16]  \n",
              "2   [Data Analysis, Recruitment]    Structured  [12, 14, 13]  \n",
              "3        [Python, Communication]    Mentorship   [15, 13, 9]  \n",
              "4   [Data Analysis, Recruitment]      Flexible   [15, 14, 9]  \n",
              "..                           ...           ...           ...  \n",
              "95         [Python, Recruitment]    Mentorship  [15, 14, 11]  \n",
              "96  [Recruitment, Communication]    Structured  [10, 13, 12]  \n",
              "97       [Python, Communication]    Structured  [10, 12, 16]  \n",
              "98  [Python, Project Management]      Flexible  [11, 17, 13]  \n",
              "99       [Data Analysis, Python]      Flexible  [14, 16, 17]  \n",
              "\n",
              "[100 rows x 7 columns]"
            ],
            "text/html": [
              "\n",
              "  <div id=\"df-6c5f24d3-cc3f-44bb-aee5-5b532f60b795\" class=\"colab-df-container\">\n",
              "    <div>\n",
              "<style scoped>\n",
              "    .dataframe tbody tr th:only-of-type {\n",
              "        vertical-align: middle;\n",
              "    }\n",
              "\n",
              "    .dataframe tbody tr th {\n",
              "        vertical-align: top;\n",
              "    }\n",
              "\n",
              "    .dataframe thead th {\n",
              "        text-align: right;\n",
              "    }\n",
              "</style>\n",
              "<table border=\"1\" class=\"dataframe\">\n",
              "  <thead>\n",
              "    <tr style=\"text-align: right;\">\n",
              "      <th></th>\n",
              "      <th>EmployeeID</th>\n",
              "      <th>Department</th>\n",
              "      <th>CareerGoals</th>\n",
              "      <th>EmotionalSupportNeeds</th>\n",
              "      <th>SkillDevelopmentAreas</th>\n",
              "      <th>CoachingStyle</th>\n",
              "      <th>Availability</th>\n",
              "    </tr>\n",
              "  </thead>\n",
              "  <tbody>\n",
              "    <tr>\n",
              "      <th>0</th>\n",
              "      <td>E1</td>\n",
              "      <td>Marketing</td>\n",
              "      <td>Management</td>\n",
              "      <td>Medium</td>\n",
              "      <td>[Communication, Python]</td>\n",
              "      <td>Structured</td>\n",
              "      <td>[10, 15, 13]</td>\n",
              "    </tr>\n",
              "    <tr>\n",
              "      <th>1</th>\n",
              "      <td>E2</td>\n",
              "      <td>HR</td>\n",
              "      <td>Soft Skills Improvement</td>\n",
              "      <td>High</td>\n",
              "      <td>[Data Analysis, Recruitment]</td>\n",
              "      <td>Mentorship</td>\n",
              "      <td>[9, 15, 16]</td>\n",
              "    </tr>\n",
              "    <tr>\n",
              "      <th>2</th>\n",
              "      <td>E3</td>\n",
              "      <td>Finance</td>\n",
              "      <td>Technical Expertise</td>\n",
              "      <td>High</td>\n",
              "      <td>[Data Analysis, Recruitment]</td>\n",
              "      <td>Structured</td>\n",
              "      <td>[12, 14, 13]</td>\n",
              "    </tr>\n",
              "    <tr>\n",
              "      <th>3</th>\n",
              "      <td>E4</td>\n",
              "      <td>Sales</td>\n",
              "      <td>Management</td>\n",
              "      <td>Medium</td>\n",
              "      <td>[Python, Communication]</td>\n",
              "      <td>Mentorship</td>\n",
              "      <td>[15, 13, 9]</td>\n",
              "    </tr>\n",
              "    <tr>\n",
              "      <th>4</th>\n",
              "      <td>E5</td>\n",
              "      <td>Finance</td>\n",
              "      <td>Soft Skills Improvement</td>\n",
              "      <td>High</td>\n",
              "      <td>[Data Analysis, Recruitment]</td>\n",
              "      <td>Flexible</td>\n",
              "      <td>[15, 14, 9]</td>\n",
              "    </tr>\n",
              "    <tr>\n",
              "      <th>...</th>\n",
              "      <td>...</td>\n",
              "      <td>...</td>\n",
              "      <td>...</td>\n",
              "      <td>...</td>\n",
              "      <td>...</td>\n",
              "      <td>...</td>\n",
              "      <td>...</td>\n",
              "    </tr>\n",
              "    <tr>\n",
              "      <th>95</th>\n",
              "      <td>E96</td>\n",
              "      <td>Finance</td>\n",
              "      <td>Management</td>\n",
              "      <td>Medium</td>\n",
              "      <td>[Python, Recruitment]</td>\n",
              "      <td>Mentorship</td>\n",
              "      <td>[15, 14, 11]</td>\n",
              "    </tr>\n",
              "    <tr>\n",
              "      <th>96</th>\n",
              "      <td>E97</td>\n",
              "      <td>HR</td>\n",
              "      <td>Management</td>\n",
              "      <td>Medium</td>\n",
              "      <td>[Recruitment, Communication]</td>\n",
              "      <td>Structured</td>\n",
              "      <td>[10, 13, 12]</td>\n",
              "    </tr>\n",
              "    <tr>\n",
              "      <th>97</th>\n",
              "      <td>E98</td>\n",
              "      <td>HR</td>\n",
              "      <td>Leadership</td>\n",
              "      <td>High</td>\n",
              "      <td>[Python, Communication]</td>\n",
              "      <td>Structured</td>\n",
              "      <td>[10, 12, 16]</td>\n",
              "    </tr>\n",
              "    <tr>\n",
              "      <th>98</th>\n",
              "      <td>E99</td>\n",
              "      <td>IT</td>\n",
              "      <td>Technical Expertise</td>\n",
              "      <td>Medium</td>\n",
              "      <td>[Python, Project Management]</td>\n",
              "      <td>Flexible</td>\n",
              "      <td>[11, 17, 13]</td>\n",
              "    </tr>\n",
              "    <tr>\n",
              "      <th>99</th>\n",
              "      <td>E100</td>\n",
              "      <td>Finance</td>\n",
              "      <td>Leadership</td>\n",
              "      <td>Medium</td>\n",
              "      <td>[Data Analysis, Python]</td>\n",
              "      <td>Flexible</td>\n",
              "      <td>[14, 16, 17]</td>\n",
              "    </tr>\n",
              "  </tbody>\n",
              "</table>\n",
              "<p>100 rows × 7 columns</p>\n",
              "</div>\n",
              "    <div class=\"colab-df-buttons\">\n",
              "\n",
              "  <div class=\"colab-df-container\">\n",
              "    <button class=\"colab-df-convert\" onclick=\"convertToInteractive('df-6c5f24d3-cc3f-44bb-aee5-5b532f60b795')\"\n",
              "            title=\"Convert this dataframe to an interactive table.\"\n",
              "            style=\"display:none;\">\n",
              "\n",
              "  <svg xmlns=\"http://www.w3.org/2000/svg\" height=\"24px\" viewBox=\"0 -960 960 960\">\n",
              "    <path d=\"M120-120v-720h720v720H120Zm60-500h600v-160H180v160Zm220 220h160v-160H400v160Zm0 220h160v-160H400v160ZM180-400h160v-160H180v160Zm440 0h160v-160H620v160ZM180-180h160v-160H180v160Zm440 0h160v-160H620v160Z\"/>\n",
              "  </svg>\n",
              "    </button>\n",
              "\n",
              "  <style>\n",
              "    .colab-df-container {\n",
              "      display:flex;\n",
              "      gap: 12px;\n",
              "    }\n",
              "\n",
              "    .colab-df-convert {\n",
              "      background-color: #E8F0FE;\n",
              "      border: none;\n",
              "      border-radius: 50%;\n",
              "      cursor: pointer;\n",
              "      display: none;\n",
              "      fill: #1967D2;\n",
              "      height: 32px;\n",
              "      padding: 0 0 0 0;\n",
              "      width: 32px;\n",
              "    }\n",
              "\n",
              "    .colab-df-convert:hover {\n",
              "      background-color: #E2EBFA;\n",
              "      box-shadow: 0px 1px 2px rgba(60, 64, 67, 0.3), 0px 1px 3px 1px rgba(60, 64, 67, 0.15);\n",
              "      fill: #174EA6;\n",
              "    }\n",
              "\n",
              "    .colab-df-buttons div {\n",
              "      margin-bottom: 4px;\n",
              "    }\n",
              "\n",
              "    [theme=dark] .colab-df-convert {\n",
              "      background-color: #3B4455;\n",
              "      fill: #D2E3FC;\n",
              "    }\n",
              "\n",
              "    [theme=dark] .colab-df-convert:hover {\n",
              "      background-color: #434B5C;\n",
              "      box-shadow: 0px 1px 3px 1px rgba(0, 0, 0, 0.15);\n",
              "      filter: drop-shadow(0px 1px 2px rgba(0, 0, 0, 0.3));\n",
              "      fill: #FFFFFF;\n",
              "    }\n",
              "  </style>\n",
              "\n",
              "    <script>\n",
              "      const buttonEl =\n",
              "        document.querySelector('#df-6c5f24d3-cc3f-44bb-aee5-5b532f60b795 button.colab-df-convert');\n",
              "      buttonEl.style.display =\n",
              "        google.colab.kernel.accessAllowed ? 'block' : 'none';\n",
              "\n",
              "      async function convertToInteractive(key) {\n",
              "        const element = document.querySelector('#df-6c5f24d3-cc3f-44bb-aee5-5b532f60b795');\n",
              "        const dataTable =\n",
              "          await google.colab.kernel.invokeFunction('convertToInteractive',\n",
              "                                                    [key], {});\n",
              "        if (!dataTable) return;\n",
              "\n",
              "        const docLinkHtml = 'Like what you see? Visit the ' +\n",
              "          '<a target=\"_blank\" href=https://colab.research.google.com/notebooks/data_table.ipynb>data table notebook</a>'\n",
              "          + ' to learn more about interactive tables.';\n",
              "        element.innerHTML = '';\n",
              "        dataTable['output_type'] = 'display_data';\n",
              "        await google.colab.output.renderOutput(dataTable, element);\n",
              "        const docLink = document.createElement('div');\n",
              "        docLink.innerHTML = docLinkHtml;\n",
              "        element.appendChild(docLink);\n",
              "      }\n",
              "    </script>\n",
              "  </div>\n",
              "\n",
              "\n",
              "<div id=\"df-dc56ed59-4fc4-4fdc-9078-af5c3c874d65\">\n",
              "  <button class=\"colab-df-quickchart\" onclick=\"quickchart('df-dc56ed59-4fc4-4fdc-9078-af5c3c874d65')\"\n",
              "            title=\"Suggest charts\"\n",
              "            style=\"display:none;\">\n",
              "\n",
              "<svg xmlns=\"http://www.w3.org/2000/svg\" height=\"24px\"viewBox=\"0 0 24 24\"\n",
              "     width=\"24px\">\n",
              "    <g>\n",
              "        <path d=\"M19 3H5c-1.1 0-2 .9-2 2v14c0 1.1.9 2 2 2h14c1.1 0 2-.9 2-2V5c0-1.1-.9-2-2-2zM9 17H7v-7h2v7zm4 0h-2V7h2v10zm4 0h-2v-4h2v4z\"/>\n",
              "    </g>\n",
              "</svg>\n",
              "  </button>\n",
              "\n",
              "<style>\n",
              "  .colab-df-quickchart {\n",
              "      --bg-color: #E8F0FE;\n",
              "      --fill-color: #1967D2;\n",
              "      --hover-bg-color: #E2EBFA;\n",
              "      --hover-fill-color: #174EA6;\n",
              "      --disabled-fill-color: #AAA;\n",
              "      --disabled-bg-color: #DDD;\n",
              "  }\n",
              "\n",
              "  [theme=dark] .colab-df-quickchart {\n",
              "      --bg-color: #3B4455;\n",
              "      --fill-color: #D2E3FC;\n",
              "      --hover-bg-color: #434B5C;\n",
              "      --hover-fill-color: #FFFFFF;\n",
              "      --disabled-bg-color: #3B4455;\n",
              "      --disabled-fill-color: #666;\n",
              "  }\n",
              "\n",
              "  .colab-df-quickchart {\n",
              "    background-color: var(--bg-color);\n",
              "    border: none;\n",
              "    border-radius: 50%;\n",
              "    cursor: pointer;\n",
              "    display: none;\n",
              "    fill: var(--fill-color);\n",
              "    height: 32px;\n",
              "    padding: 0;\n",
              "    width: 32px;\n",
              "  }\n",
              "\n",
              "  .colab-df-quickchart:hover {\n",
              "    background-color: var(--hover-bg-color);\n",
              "    box-shadow: 0 1px 2px rgba(60, 64, 67, 0.3), 0 1px 3px 1px rgba(60, 64, 67, 0.15);\n",
              "    fill: var(--button-hover-fill-color);\n",
              "  }\n",
              "\n",
              "  .colab-df-quickchart-complete:disabled,\n",
              "  .colab-df-quickchart-complete:disabled:hover {\n",
              "    background-color: var(--disabled-bg-color);\n",
              "    fill: var(--disabled-fill-color);\n",
              "    box-shadow: none;\n",
              "  }\n",
              "\n",
              "  .colab-df-spinner {\n",
              "    border: 2px solid var(--fill-color);\n",
              "    border-color: transparent;\n",
              "    border-bottom-color: var(--fill-color);\n",
              "    animation:\n",
              "      spin 1s steps(1) infinite;\n",
              "  }\n",
              "\n",
              "  @keyframes spin {\n",
              "    0% {\n",
              "      border-color: transparent;\n",
              "      border-bottom-color: var(--fill-color);\n",
              "      border-left-color: var(--fill-color);\n",
              "    }\n",
              "    20% {\n",
              "      border-color: transparent;\n",
              "      border-left-color: var(--fill-color);\n",
              "      border-top-color: var(--fill-color);\n",
              "    }\n",
              "    30% {\n",
              "      border-color: transparent;\n",
              "      border-left-color: var(--fill-color);\n",
              "      border-top-color: var(--fill-color);\n",
              "      border-right-color: var(--fill-color);\n",
              "    }\n",
              "    40% {\n",
              "      border-color: transparent;\n",
              "      border-right-color: var(--fill-color);\n",
              "      border-top-color: var(--fill-color);\n",
              "    }\n",
              "    60% {\n",
              "      border-color: transparent;\n",
              "      border-right-color: var(--fill-color);\n",
              "    }\n",
              "    80% {\n",
              "      border-color: transparent;\n",
              "      border-right-color: var(--fill-color);\n",
              "      border-bottom-color: var(--fill-color);\n",
              "    }\n",
              "    90% {\n",
              "      border-color: transparent;\n",
              "      border-bottom-color: var(--fill-color);\n",
              "    }\n",
              "  }\n",
              "</style>\n",
              "\n",
              "  <script>\n",
              "    async function quickchart(key) {\n",
              "      const quickchartButtonEl =\n",
              "        document.querySelector('#' + key + ' button');\n",
              "      quickchartButtonEl.disabled = true;  // To prevent multiple clicks.\n",
              "      quickchartButtonEl.classList.add('colab-df-spinner');\n",
              "      try {\n",
              "        const charts = await google.colab.kernel.invokeFunction(\n",
              "            'suggestCharts', [key], {});\n",
              "      } catch (error) {\n",
              "        console.error('Error during call to suggestCharts:', error);\n",
              "      }\n",
              "      quickchartButtonEl.classList.remove('colab-df-spinner');\n",
              "      quickchartButtonEl.classList.add('colab-df-quickchart-complete');\n",
              "    }\n",
              "    (() => {\n",
              "      let quickchartButtonEl =\n",
              "        document.querySelector('#df-dc56ed59-4fc4-4fdc-9078-af5c3c874d65 button');\n",
              "      quickchartButtonEl.style.display =\n",
              "        google.colab.kernel.accessAllowed ? 'block' : 'none';\n",
              "    })();\n",
              "  </script>\n",
              "</div>\n",
              "\n",
              "  <div id=\"id_a94426f1-6e1d-4da4-bb3f-659c1128e6b7\">\n",
              "    <style>\n",
              "      .colab-df-generate {\n",
              "        background-color: #E8F0FE;\n",
              "        border: none;\n",
              "        border-radius: 50%;\n",
              "        cursor: pointer;\n",
              "        display: none;\n",
              "        fill: #1967D2;\n",
              "        height: 32px;\n",
              "        padding: 0 0 0 0;\n",
              "        width: 32px;\n",
              "      }\n",
              "\n",
              "      .colab-df-generate:hover {\n",
              "        background-color: #E2EBFA;\n",
              "        box-shadow: 0px 1px 2px rgba(60, 64, 67, 0.3), 0px 1px 3px 1px rgba(60, 64, 67, 0.15);\n",
              "        fill: #174EA6;\n",
              "      }\n",
              "\n",
              "      [theme=dark] .colab-df-generate {\n",
              "        background-color: #3B4455;\n",
              "        fill: #D2E3FC;\n",
              "      }\n",
              "\n",
              "      [theme=dark] .colab-df-generate:hover {\n",
              "        background-color: #434B5C;\n",
              "        box-shadow: 0px 1px 3px 1px rgba(0, 0, 0, 0.15);\n",
              "        filter: drop-shadow(0px 1px 2px rgba(0, 0, 0, 0.3));\n",
              "        fill: #FFFFFF;\n",
              "      }\n",
              "    </style>\n",
              "    <button class=\"colab-df-generate\" onclick=\"generateWithVariable('employees_df')\"\n",
              "            title=\"Generate code using this dataframe.\"\n",
              "            style=\"display:none;\">\n",
              "\n",
              "  <svg xmlns=\"http://www.w3.org/2000/svg\" height=\"24px\"viewBox=\"0 0 24 24\"\n",
              "       width=\"24px\">\n",
              "    <path d=\"M7,19H8.4L18.45,9,17,7.55,7,17.6ZM5,21V16.75L18.45,3.32a2,2,0,0,1,2.83,0l1.4,1.43a1.91,1.91,0,0,1,.58,1.4,1.91,1.91,0,0,1-.58,1.4L9.25,21ZM18.45,9,17,7.55Zm-12,3A5.31,5.31,0,0,0,4.9,8.1,5.31,5.31,0,0,0,1,6.5,5.31,5.31,0,0,0,4.9,4.9,5.31,5.31,0,0,0,6.5,1,5.31,5.31,0,0,0,8.1,4.9,5.31,5.31,0,0,0,12,6.5,5.46,5.46,0,0,0,6.5,12Z\"/>\n",
              "  </svg>\n",
              "    </button>\n",
              "    <script>\n",
              "      (() => {\n",
              "      const buttonEl =\n",
              "        document.querySelector('#id_a94426f1-6e1d-4da4-bb3f-659c1128e6b7 button.colab-df-generate');\n",
              "      buttonEl.style.display =\n",
              "        google.colab.kernel.accessAllowed ? 'block' : 'none';\n",
              "\n",
              "      buttonEl.onclick = () => {\n",
              "        google.colab.notebook.generateWithVariable('employees_df');\n",
              "      }\n",
              "      })();\n",
              "    </script>\n",
              "  </div>\n",
              "\n",
              "    </div>\n",
              "  </div>\n"
            ],
            "application/vnd.google.colaboratory.intrinsic+json": {
              "type": "dataframe",
              "variable_name": "employees_df",
              "summary": "{\n  \"name\": \"employees_df\",\n  \"rows\": 100,\n  \"fields\": [\n    {\n      \"column\": \"EmployeeID\",\n      \"properties\": {\n        \"dtype\": \"string\",\n        \"num_unique_values\": 100,\n        \"samples\": [\n          \"E84\",\n          \"E54\",\n          \"E71\"\n        ],\n        \"semantic_type\": \"\",\n        \"description\": \"\"\n      }\n    },\n    {\n      \"column\": \"Department\",\n      \"properties\": {\n        \"dtype\": \"category\",\n        \"num_unique_values\": 5,\n        \"samples\": [\n          \"HR\",\n          \"IT\",\n          \"Finance\"\n        ],\n        \"semantic_type\": \"\",\n        \"description\": \"\"\n      }\n    },\n    {\n      \"column\": \"CareerGoals\",\n      \"properties\": {\n        \"dtype\": \"category\",\n        \"num_unique_values\": 4,\n        \"samples\": [\n          \"Soft Skills Improvement\",\n          \"Leadership\",\n          \"Management\"\n        ],\n        \"semantic_type\": \"\",\n        \"description\": \"\"\n      }\n    },\n    {\n      \"column\": \"EmotionalSupportNeeds\",\n      \"properties\": {\n        \"dtype\": \"category\",\n        \"num_unique_values\": 3,\n        \"samples\": [\n          \"Medium\",\n          \"High\",\n          \"Low\"\n        ],\n        \"semantic_type\": \"\",\n        \"description\": \"\"\n      }\n    },\n    {\n      \"column\": \"SkillDevelopmentAreas\",\n      \"properties\": {\n        \"dtype\": \"object\",\n        \"semantic_type\": \"\",\n        \"description\": \"\"\n      }\n    },\n    {\n      \"column\": \"CoachingStyle\",\n      \"properties\": {\n        \"dtype\": \"category\",\n        \"num_unique_values\": 3,\n        \"samples\": [\n          \"Structured\",\n          \"Mentorship\",\n          \"Flexible\"\n        ],\n        \"semantic_type\": \"\",\n        \"description\": \"\"\n      }\n    },\n    {\n      \"column\": \"Availability\",\n      \"properties\": {\n        \"dtype\": \"object\",\n        \"semantic_type\": \"\",\n        \"description\": \"\"\n      }\n    }\n  ]\n}"
            }
          },
          "metadata": {}
        }
      ]
    },
    {
      "source": [
        "from matplotlib import pyplot as plt\n",
        "import seaborn as sns\n",
        "import pandas as pd\n",
        "plt.subplots(figsize=(8, 8))\n",
        "df_2dhist = pd.DataFrame({\n",
        "    x_label: grp['CoachingStyle'].value_counts()\n",
        "    for x_label, grp in employees_df.groupby('EmotionalSupportNeeds')\n",
        "})\n",
        "sns.heatmap(df_2dhist, cmap='viridis')\n",
        "plt.xlabel('EmotionalSupportNeeds')\n",
        "_ = plt.ylabel('CoachingStyle')"
      ],
      "cell_type": "code",
      "metadata": {
        "colab": {
          "base_uri": "https://localhost:8080/",
          "height": 701
        },
        "id": "nJAvDlmXGi4r",
        "outputId": "6651796d-295d-4901-9593-7c4a81ec7c2e"
      },
      "execution_count": null,
      "outputs": [
        {
          "output_type": "display_data",
          "data": {
            "text/plain": [
              "<Figure size 800x800 with 2 Axes>"
            ],
            "image/png": "[encoded data removed]"
          },
          "metadata": {}
        }
      ]
    },
    {
      "source": [
        "from matplotlib import pyplot as plt\n",
        "import seaborn as sns\n",
        "import pandas as pd\n",
        "plt.subplots(figsize=(8, 8))\n",
        "df_2dhist = pd.DataFrame({\n",
        "    x_label: grp['EmotionalSupportNeeds'].value_counts()\n",
        "    for x_label, grp in employees_df.groupby('CareerGoals')\n",
        "})\n",
        "sns.heatmap(df_2dhist, cmap='viridis')\n",
        "plt.xlabel('CareerGoals')\n",
        "_ = plt.ylabel('EmotionalSupportNeeds')"
      ],
      "cell_type": "code",
      "metadata": {
        "colab": {
          "base_uri": "https://localhost:8080/",
          "height": 853
        },
        "id": "HDHRfoFtGiGu",
        "outputId": "8098a1e8-0bc3-4798-ce23-ad213cdad8d7"
      },
      "execution_count": null,
      "outputs": [
        {
          "output_type": "display_data",
          "data": {
            "text/plain": [
              "<Figure size 800x800 with 2 Axes>"
            ],
            "image/png": "[encoded data removed]"
          },
          "metadata": {}
        }
      ]
    },
    {
      "source": [
        "from matplotlib import pyplot as plt\n",
        "import seaborn as sns\n",
        "import pandas as pd\n",
        "plt.subplots(figsize=(8, 8))\n",
        "df_2dhist = pd.DataFrame({\n",
        "    x_label: grp['CareerGoals'].value_counts()\n",
        "    for x_label, grp in employees_df.groupby('Department')\n",
        "})\n",
        "sns.heatmap(df_2dhist, cmap='viridis')\n",
        "plt.xlabel('Department')\n",
        "_ = plt.ylabel('CareerGoals')"
      ],
      "cell_type": "code",
      "metadata": {
        "colab": {
          "base_uri": "https://localhost:8080/",
          "height": 701
        },
        "id": "wGKdLPAuGhQn",
        "outputId": "df1e2f3a-5c80-438d-f8a3-b3f2ad0523c9"
      },
      "execution_count": null,
      "outputs": [
        {
          "output_type": "display_data",
          "data": {
            "text/plain": [
              "<Figure size 800x800 with 2 Axes>"
            ],
            "image/png": "[encoded data removed]"
          },
          "metadata": {}
        }
      ]
    },
    {
      "source": [
        "from matplotlib import pyplot as plt\n",
        "import seaborn as sns\n",
        "employees_df.groupby('CoachingStyle').size().plot(kind='barh', color=sns.palettes.mpl_palette('Dark2'))\n",
        "plt.gca().spines[['top', 'right',]].set_visible(False)"
      ],
      "cell_type": "code",
      "metadata": {
        "colab": {
          "base_uri": "https://localhost:8080/",
          "height": 430
        },
        "id": "Vv1Evh7AGgc3",
        "outputId": "00dab081-bfe8-43c6-fbe4-1f39af10223f"
      },
      "execution_count": null,
      "outputs": [
        {
          "output_type": "display_data",
          "data": {
            "text/plain": [
              "<Figure size 640x480 with 1 Axes>"
            ],
            "image/png": "[encoded data removed]"
          },
          "metadata": {}
        }
      ]
    },
    {
      "source": [
        "from matplotlib import pyplot as plt\n",
        "import seaborn as sns\n",
        "employees_df.groupby('EmotionalSupportNeeds').size().plot(kind='barh', color=sns.palettes.mpl_palette('Dark2'))\n",
        "plt.gca().spines[['top', 'right',]].set_visible(False)"
      ],
      "cell_type": "code",
      "metadata": {
        "colab": {
          "base_uri": "https://localhost:8080/",
          "height": 430
        },
        "id": "gYWALJ3_GfwY",
        "outputId": "2244650c-6360-4ddd-dfff-d19b70673af1"
      },
      "execution_count": null,
      "outputs": [
        {
          "output_type": "display_data",
          "data": {
            "text/plain": [
              "<Figure size 640x480 with 1 Axes>"
            ],
            "image/png": "[encoded data removed]"
          },
          "metadata": {}
        }
      ]
    },
    {
      "source": [
        "from matplotlib import pyplot as plt\n",
        "import seaborn as sns\n",
        "employees_df.groupby('CareerGoals').size().plot(kind='barh', color=sns.palettes.mpl_palette('Dark2'))\n",
        "plt.gca().spines[['top', 'right',]].set_visible(False)"
      ],
      "cell_type": "code",
      "metadata": {
        "colab": {
          "base_uri": "https://localhost:8080/",
          "height": 430
        },
        "id": "jtp1Kh0sGfEp",
        "outputId": "0ffc5efc-8c44-40b6-9acb-2c3e25da4047"
      },
      "execution_count": null,
      "outputs": [
        {
          "output_type": "display_data",
          "data": {
            "text/plain": [
              "<Figure size 640x480 with 1 Axes>"
            ],
            "image/png": "[encoded data removed]"
          },
          "metadata": {}
        }
      ]
    },
    {
      "source": [
        "from matplotlib import pyplot as plt\n",
        "import seaborn as sns\n",
        "employees_df.groupby('Department').size().plot(kind='barh', color=sns.palettes.mpl_palette('Dark2'))\n",
        "plt.gca().spines[['top', 'right',]].set_visible(False)"
      ],
      "cell_type": "code",
      "metadata": {
        "colab": {
          "base_uri": "https://localhost:8080/",
          "height": 430
        },
        "id": "kFbhVUZCGeKB",
        "outputId": "77948656-9ab8-46b7-e18a-af75026e6b49"
      },
      "execution_count": null,
      "outputs": [
        {
          "output_type": "display_data",
          "data": {
            "text/plain": [
              "<Figure size 640x480 with 1 Axes>"
            ],
            "image/png": "[encoded data removed]"
          },
          "metadata": {}
        }
      ]
    },
    {
      "cell_type": "markdown",
      "source": [
        "### Coach Dataframe"
      ],
      "metadata": {
        "id": "wCTf-tOQBRGe"
      }
    },
    {
      "cell_type": "code",
      "source": [
        "coaches_df = pd.DataFrame(coaches)\n",
        "display(coaches_df)"
      ],
      "metadata": {
        "colab": {
          "base_uri": "https://localhost:8080/",
          "height": 363
        },
        "id": "22z38L_XBG4b",
        "outputId": "12a5fd4c-2d71-4594-9cb5-a1b36f267654"
      },
      "execution_count": null,
      "outputs": [
        {
          "output_type": "display_data",
          "data": {
            "text/plain": [
              "  CoachID Certifications        Specializations CoachingStyle  \\\n",
              "0      C1     [BCC, ICF]    [Career, Emotional]    Mentorship   \n",
              "1      C2     [ICF, ACC]     [Career, Skill Up]    Mentorship   \n",
              "2      C3     [PCC, BCC]     [Career, Skill Up]      Flexible   \n",
              "3      C4     [BCC, ICF]  [Skill Up, Emotional]      Flexible   \n",
              "4      C5     [ACC, BCC]     [Career, Skill Up]    Mentorship   \n",
              "5      C6     [PCC, ACC]     [Career, Skill Up]    Structured   \n",
              "6      C7     [PCC, BCC]    [Career, Emotional]      Flexible   \n",
              "7      C8     [ACC, BCC]  [Emotional, Skill Up]    Structured   \n",
              "8      C9     [PCC, ACC]  [Skill Up, Emotional]    Mentorship   \n",
              "9     C10     [PCC, BCC]     [Career, Skill Up]      Flexible   \n",
              "\n",
              "   ExperienceLevel  Availability  \n",
              "0                6  [15, 11, 14]  \n",
              "1               14  [11, 15, 12]  \n",
              "2               14   [17, 9, 13]  \n",
              "3               13  [11, 13, 10]  \n",
              "4                1  [17, 11, 13]  \n",
              "5               11  [14, 11, 10]  \n",
              "6               13  [15, 14, 13]  \n",
              "7               14  [12, 16, 14]  \n",
              "8                7   [13, 9, 17]  \n",
              "9               16  [15, 14, 10]  "
            ],
            "text/html": [
              "\n",
              "  <div id=\"df-cfe66eda-0cbd-4868-ae31-44c12519c4f3\" class=\"colab-df-container\">\n",
              "    <div>\n",
              "<style scoped>\n",
              "    .dataframe tbody tr th:only-of-type {\n",
              "        vertical-align: middle;\n",
              "    }\n",
              "\n",
              "    .dataframe tbody tr th {\n",
              "        vertical-align: top;\n",
              "    }\n",
              "\n",
              "    .dataframe thead th {\n",
              "        text-align: right;\n",
              "    }\n",
              "</style>\n",
              "<table border=\"1\" class=\"dataframe\">\n",
              "  <thead>\n",
              "    <tr style=\"text-align: right;\">\n",
              "      <th></th>\n",
              "      <th>CoachID</th>\n",
              "      <th>Certifications</th>\n",
              "      <th>Specializations</th>\n",
              "      <th>CoachingStyle</th>\n",
              "      <th>ExperienceLevel</th>\n",
              "      <th>Availability</th>\n",
              "    </tr>\n",
              "  </thead>\n",
              "  <tbody>\n",
              "    <tr>\n",
              "      <th>0</th>\n",
              "      <td>C1</td>\n",
              "      <td>[BCC, ICF]</td>\n",
              "      <td>[Career, Emotional]</td>\n",
              "      <td>Mentorship</td>\n",
              "      <td>6</td>\n",
              "      <td>[15, 11, 14]</td>\n",
              "    </tr>\n",
              "    <tr>\n",
              "      <th>1</th>\n",
              "      <td>C2</td>\n",
              "      <td>[ICF, ACC]</td>\n",
              "      <td>[Career, Skill Up]</td>\n",
              "      <td>Mentorship</td>\n",
              "      <td>14</td>\n",
              "      <td>[11, 15, 12]</td>\n",
              "    </tr>\n",
              "    <tr>\n",
              "      <th>2</th>\n",
              "      <td>C3</td>\n",
              "      <td>[PCC, BCC]</td>\n",
              "      <td>[Career, Skill Up]</td>\n",
              "      <td>Flexible</td>\n",
              "      <td>14</td>\n",
              "      <td>[17, 9, 13]</td>\n",
              "    </tr>\n",
              "    <tr>\n",
              "      <th>3</th>\n",
              "      <td>C4</td>\n",
              "      <td>[BCC, ICF]</td>\n",
              "      <td>[Skill Up, Emotional]</td>\n",
              "      <td>Flexible</td>\n",
              "      <td>13</td>\n",
              "      <td>[11, 13, 10]</td>\n",
              "    </tr>\n",
              "    <tr>\n",
              "      <th>4</th>\n",
              "      <td>C5</td>\n",
              "      <td>[ACC, BCC]</td>\n",
              "      <td>[Career, Skill Up]</td>\n",
              "      <td>Mentorship</td>\n",
              "      <td>1</td>\n",
              "      <td>[17, 11, 13]</td>\n",
              "    </tr>\n",
              "    <tr>\n",
              "      <th>5</th>\n",
              "      <td>C6</td>\n",
              "      <td>[PCC, ACC]</td>\n",
              "      <td>[Career, Skill Up]</td>\n",
              "      <td>Structured</td>\n",
              "      <td>11</td>\n",
              "      <td>[14, 11, 10]</td>\n",
              "    </tr>\n",
              "    <tr>\n",
              "      <th>6</th>\n",
              "      <td>C7</td>\n",
              "      <td>[PCC, BCC]</td>\n",
              "      <td>[Career, Emotional]</td>\n",
              "      <td>Flexible</td>\n",
              "      <td>13</td>\n",
              "      <td>[15, 14, 13]</td>\n",
              "    </tr>\n",
              "    <tr>\n",
              "      <th>7</th>\n",
              "      <td>C8</td>\n",
              "      <td>[ACC, BCC]</td>\n",
              "      <td>[Emotional, Skill Up]</td>\n",
              "      <td>Structured</td>\n",
              "      <td>14</td>\n",
              "      <td>[12, 16, 14]</td>\n",
              "    </tr>\n",
              "    <tr>\n",
              "      <th>8</th>\n",
              "      <td>C9</td>\n",
              "      <td>[PCC, ACC]</td>\n",
              "      <td>[Skill Up, Emotional]</td>\n",
              "      <td>Mentorship</td>\n",
              "      <td>7</td>\n",
              "      <td>[13, 9, 17]</td>\n",
              "    </tr>\n",
              "    <tr>\n",
              "      <th>9</th>\n",
              "      <td>C10</td>\n",
              "      <td>[PCC, BCC]</td>\n",
              "      <td>[Career, Skill Up]</td>\n",
              "      <td>Flexible</td>\n",
              "      <td>16</td>\n",
              "      <td>[15, 14, 10]</td>\n",
              "    </tr>\n",
              "  </tbody>\n",
              "</table>\n",
              "</div>\n",
              "    <div class=\"colab-df-buttons\">\n",
              "\n",
              "  <div class=\"colab-df-container\">\n",
              "    <button class=\"colab-df-convert\" onclick=\"convertToInteractive('df-cfe66eda-0cbd-4868-ae31-44c12519c4f3')\"\n",
              "            title=\"Convert this dataframe to an interactive table.\"\n",
              "            style=\"display:none;\">\n",
              "\n",
              "  <svg xmlns=\"http://www.w3.org/2000/svg\" height=\"24px\" viewBox=\"0 -960 960 960\">\n",
              "    <path d=\"M120-120v-720h720v720H120Zm60-500h600v-160H180v160Zm220 220h160v-160H400v160Zm0 220h160v-160H400v160ZM180-400h160v-160H180v160Zm440 0h160v-160H620v160ZM180-180h160v-160H180v160Zm440 0h160v-160H620v160Z\"/>\n",
              "  </svg>\n",
              "    </button>\n",
              "\n",
              "  <style>\n",
              "    .colab-df-container {\n",
              "      display:flex;\n",
              "      gap: 12px;\n",
              "    }\n",
              "\n",
              "    .colab-df-convert {\n",
              "      background-color: #E8F0FE;\n",
              "      border: none;\n",
              "      border-radius: 50%;\n",
              "      cursor: pointer;\n",
              "      display: none;\n",
              "      fill: #1967D2;\n",
              "      height: 32px;\n",
              "      padding: 0 0 0 0;\n",
              "      width: 32px;\n",
              "    }\n",
              "\n",
              "    .colab-df-convert:hover {\n",
              "      background-color: #E2EBFA;\n",
              "      box-shadow: 0px 1px 2px rgba(60, 64, 67, 0.3), 0px 1px 3px 1px rgba(60, 64, 67, 0.15);\n",
              "      fill: #174EA6;\n",
              "    }\n",
              "\n",
              "    .colab-df-buttons div {\n",
              "      margin-bottom: 4px;\n",
              "    }\n",
              "\n",
              "    [theme=dark] .colab-df-convert {\n",
              "      background-color: #3B4455;\n",
              "      fill: #D2E3FC;\n",
              "    }\n",
              "\n",
              "    [theme=dark] .colab-df-convert:hover {\n",
              "      background-color: #434B5C;\n",
              "      box-shadow: 0px 1px 3px 1px rgba(0, 0, 0, 0.15);\n",
              "      filter: drop-shadow(0px 1px 2px rgba(0, 0, 0, 0.3));\n",
              "      fill: #FFFFFF;\n",
              "    }\n",
              "  </style>\n",
              "\n",
              "    <script>\n",
              "      const buttonEl =\n",
              "        document.querySelector('#df-cfe66eda-0cbd-4868-ae31-44c12519c4f3 button.colab-df-convert');\n",
              "      buttonEl.style.display =\n",
              "        google.colab.kernel.accessAllowed ? 'block' : 'none';\n",
              "\n",
              "      async function convertToInteractive(key) {\n",
              "        const element = document.querySelector('#df-cfe66eda-0cbd-4868-ae31-44c12519c4f3');\n",
              "        const dataTable =\n",
              "          await google.colab.kernel.invokeFunction('convertToInteractive',\n",
              "                                                    [key], {});\n",
              "        if (!dataTable) return;\n",
              "\n",
              "        const docLinkHtml = 'Like what you see? Visit the ' +\n",
              "          '<a target=\"_blank\" href=https://colab.research.google.com/notebooks/data_table.ipynb>data table notebook</a>'\n",
              "          + ' to learn more about interactive tables.';\n",
              "        element.innerHTML = '';\n",
              "        dataTable['output_type'] = 'display_data';\n",
              "        await google.colab.output.renderOutput(dataTable, element);\n",
              "        const docLink = document.createElement('div');\n",
              "        docLink.innerHTML = docLinkHtml;\n",
              "        element.appendChild(docLink);\n",
              "      }\n",
              "    </script>\n",
              "  </div>\n",
              "\n",
              "\n",
              "<div id=\"df-bb0cbbc6-dc63-442a-8634-25d02920f3ba\">\n",
              "  <button class=\"colab-df-quickchart\" onclick=\"quickchart('df-bb0cbbc6-dc63-442a-8634-25d02920f3ba')\"\n",
              "            title=\"Suggest charts\"\n",
              "            style=\"display:none;\">\n",
              "\n",
              "<svg xmlns=\"http://www.w3.org/2000/svg\" height=\"24px\"viewBox=\"0 0 24 24\"\n",
              "     width=\"24px\">\n",
              "    <g>\n",
              "        <path d=\"M19 3H5c-1.1 0-2 .9-2 2v14c0 1.1.9 2 2 2h14c1.1 0 2-.9 2-2V5c0-1.1-.9-2-2-2zM9 17H7v-7h2v7zm4 0h-2V7h2v10zm4 0h-2v-4h2v4z\"/>\n",
              "    </g>\n",
              "</svg>\n",
              "  </button>\n",
              "\n",
              "<style>\n",
              "  .colab-df-quickchart {\n",
              "      --bg-color: #E8F0FE;\n",
              "      --fill-color: #1967D2;\n",
              "      --hover-bg-color: #E2EBFA;\n",
              "      --hover-fill-color: #174EA6;\n",
              "      --disabled-fill-color: #AAA;\n",
              "      --disabled-bg-color: #DDD;\n",
              "  }\n",
              "\n",
              "  [theme=dark] .colab-df-quickchart {\n",
              "      --bg-color: #3B4455;\n",
              "      --fill-color: #D2E3FC;\n",
              "      --hover-bg-color: #434B5C;\n",
              "      --hover-fill-color: #FFFFFF;\n",
              "      --disabled-bg-color: #3B4455;\n",
              "      --disabled-fill-color: #666;\n",
              "  }\n",
              "\n",
              "  .colab-df-quickchart {\n",
              "    background-color: var(--bg-color);\n",
              "    border: none;\n",
              "    border-radius: 50%;\n",
              "    cursor: pointer;\n",
              "    display: none;\n",
              "    fill: var(--fill-color);\n",
              "    height: 32px;\n",
              "    padding: 0;\n",
              "    width: 32px;\n",
              "  }\n",
              "\n",
              "  .colab-df-quickchart:hover {\n",
              "    background-color: var(--hover-bg-color);\n",
              "    box-shadow: 0 1px 2px rgba(60, 64, 67, 0.3), 0 1px 3px 1px rgba(60, 64, 67, 0.15);\n",
              "    fill: var(--button-hover-fill-color);\n",
              "  }\n",
              "\n",
              "  .colab-df-quickchart-complete:disabled,\n",
              "  .colab-df-quickchart-complete:disabled:hover {\n",
              "    background-color: var(--disabled-bg-color);\n",
              "    fill: var(--disabled-fill-color);\n",
              "    box-shadow: none;\n",
              "  }\n",
              "\n",
              "  .colab-df-spinner {\n",
              "    border: 2px solid var(--fill-color);\n",
              "    border-color: transparent;\n",
              "    border-bottom-color: var(--fill-color);\n",
              "    animation:\n",
              "      spin 1s steps(1) infinite;\n",
              "  }\n",
              "\n",
              "  @keyframes spin {\n",
              "    0% {\n",
              "      border-color: transparent;\n",
              "      border-bottom-color: var(--fill-color);\n",
              "      border-left-color: var(--fill-color);\n",
              "    }\n",
              "    20% {\n",
              "      border-color: transparent;\n",
              "      border-left-color: var(--fill-color);\n",
              "      border-top-color: var(--fill-color);\n",
              "    }\n",
              "    30% {\n",
              "      border-color: transparent;\n",
              "      border-left-color: var(--fill-color);\n",
              "      border-top-color: var(--fill-color);\n",
              "      border-right-color: var(--fill-color);\n",
              "    }\n",
              "    40% {\n",
              "      border-color: transparent;\n",
              "      border-right-color: var(--fill-color);\n",
              "      border-top-color: var(--fill-color);\n",
              "    }\n",
              "    60% {\n",
              "      border-color: transparent;\n",
              "      border-right-color: var(--fill-color);\n",
              "    }\n",
              "    80% {\n",
              "      border-color: transparent;\n",
              "      border-right-color: var(--fill-color);\n",
              "      border-bottom-color: var(--fill-color);\n",
              "    }\n",
              "    90% {\n",
              "      border-color: transparent;\n",
              "      border-bottom-color: var(--fill-color);\n",
              "    }\n",
              "  }\n",
              "</style>\n",
              "\n",
              "  <script>\n",
              "    async function quickchart(key) {\n",
              "      const quickchartButtonEl =\n",
              "        document.querySelector('#' + key + ' button');\n",
              "      quickchartButtonEl.disabled = true;  // To prevent multiple clicks.\n",
              "      quickchartButtonEl.classList.add('colab-df-spinner');\n",
              "      try {\n",
              "        const charts = await google.colab.kernel.invokeFunction(\n",
              "            'suggestCharts', [key], {});\n",
              "      } catch (error) {\n",
              "        console.error('Error during call to suggestCharts:', error);\n",
              "      }\n",
              "      quickchartButtonEl.classList.remove('colab-df-spinner');\n",
              "      quickchartButtonEl.classList.add('colab-df-quickchart-complete');\n",
              "    }\n",
              "    (() => {\n",
              "      let quickchartButtonEl =\n",
              "        document.querySelector('#df-bb0cbbc6-dc63-442a-8634-25d02920f3ba button');\n",
              "      quickchartButtonEl.style.display =\n",
              "        google.colab.kernel.accessAllowed ? 'block' : 'none';\n",
              "    })();\n",
              "  </script>\n",
              "</div>\n",
              "\n",
              "  <div id=\"id_c58f2175-8ed4-4c21-8f72-9727183e977e\">\n",
              "    <style>\n",
              "      .colab-df-generate {\n",
              "        background-color: #E8F0FE;\n",
              "        border: none;\n",
              "        border-radius: 50%;\n",
              "        cursor: pointer;\n",
              "        display: none;\n",
              "        fill: #1967D2;\n",
              "        height: 32px;\n",
              "        padding: 0 0 0 0;\n",
              "        width: 32px;\n",
              "      }\n",
              "\n",
              "      .colab-df-generate:hover {\n",
              "        background-color: #E2EBFA;\n",
              "        box-shadow: 0px 1px 2px rgba(60, 64, 67, 0.3), 0px 1px 3px 1px rgba(60, 64, 67, 0.15);\n",
              "        fill: #174EA6;\n",
              "      }\n",
              "\n",
              "      [theme=dark] .colab-df-generate {\n",
              "        background-color: #3B4455;\n",
              "        fill: #D2E3FC;\n",
              "      }\n",
              "\n",
              "      [theme=dark] .colab-df-generate:hover {\n",
              "        background-color: #434B5C;\n",
              "        box-shadow: 0px 1px 3px 1px rgba(0, 0, 0, 0.15);\n",
              "        filter: drop-shadow(0px 1px 2px rgba(0, 0, 0, 0.3));\n",
              "        fill: #FFFFFF;\n",
              "      }\n",
              "    </style>\n",
              "    <button class=\"colab-df-generate\" onclick=\"generateWithVariable('coaches_df')\"\n",
              "            title=\"Generate code using this dataframe.\"\n",
              "            style=\"display:none;\">\n",
              "\n",
              "  <svg xmlns=\"http://www.w3.org/2000/svg\" height=\"24px\"viewBox=\"0 0 24 24\"\n",
              "       width=\"24px\">\n",
              "    <path d=\"M7,19H8.4L18.45,9,17,7.55,7,17.6ZM5,21V16.75L18.45,3.32a2,2,0,0,1,2.83,0l1.4,1.43a1.91,1.91,0,0,1,.58,1.4,1.91,1.91,0,0,1-.58,1.4L9.25,21ZM18.45,9,17,7.55Zm-12,3A5.31,5.31,0,0,0,4.9,8.1,5.31,5.31,0,0,0,1,6.5,5.31,5.31,0,0,0,4.9,4.9,5.31,5.31,0,0,0,6.5,1,5.31,5.31,0,0,0,8.1,4.9,5.31,5.31,0,0,0,12,6.5,5.46,5.46,0,0,0,6.5,12Z\"/>\n",
              "  </svg>\n",
              "    </button>\n",
              "    <script>\n",
              "      (() => {\n",
              "      const buttonEl =\n",
              "        document.querySelector('#id_c58f2175-8ed4-4c21-8f72-9727183e977e button.colab-df-generate');\n",
              "      buttonEl.style.display =\n",
              "        google.colab.kernel.accessAllowed ? 'block' : 'none';\n",
              "\n",
              "      buttonEl.onclick = () => {\n",
              "        google.colab.notebook.generateWithVariable('coaches_df');\n",
              "      }\n",
              "      })();\n",
              "    </script>\n",
              "  </div>\n",
              "\n",
              "    </div>\n",
              "  </div>\n"
            ],
            "application/vnd.google.colaboratory.intrinsic+json": {
              "type": "dataframe",
              "variable_name": "coaches_df",
              "summary": "{\n  \"name\": \"coaches_df\",\n  \"rows\": 10,\n  \"fields\": [\n    {\n      \"column\": \"CoachID\",\n      \"properties\": {\n        \"dtype\": \"string\",\n        \"num_unique_values\": 10,\n        \"samples\": [\n          \"C9\",\n          \"C2\",\n          \"C6\"\n        ],\n        \"semantic_type\": \"\",\n        \"description\": \"\"\n      }\n    },\n    {\n      \"column\": \"Certifications\",\n      \"properties\": {\n        \"dtype\": \"object\",\n        \"semantic_type\": \"\",\n        \"description\": \"\"\n      }\n    },\n    {\n      \"column\": \"Specializations\",\n      \"properties\": {\n        \"dtype\": \"object\",\n        \"semantic_type\": \"\",\n        \"description\": \"\"\n      }\n    },\n    {\n      \"column\": \"CoachingStyle\",\n      \"properties\": {\n        \"dtype\": \"category\",\n        \"num_unique_values\": 3,\n        \"samples\": [\n          \"Mentorship\",\n          \"Flexible\",\n          \"Structured\"\n        ],\n        \"semantic_type\": \"\",\n        \"description\": \"\"\n      }\n    },\n    {\n      \"column\": \"ExperienceLevel\",\n      \"properties\": {\n        \"dtype\": \"number\",\n        \"std\": 4,\n        \"min\": 1,\n        \"max\": 16,\n        \"num_unique_values\": 7,\n        \"samples\": [\n          6,\n          14,\n          7\n        ],\n        \"semantic_type\": \"\",\n        \"description\": \"\"\n      }\n    },\n    {\n      \"column\": \"Availability\",\n      \"properties\": {\n        \"dtype\": \"object\",\n        \"semantic_type\": \"\",\n        \"description\": \"\"\n      }\n    }\n  ]\n}"
            }
          },
          "metadata": {}
        }
      ]
    },
    {
      "source": [
        "from matplotlib import pyplot as plt\n",
        "import seaborn as sns\n",
        "figsize = (12, 1.2 * len(coaches_df['CoachingStyle'].unique()))\n",
        "plt.figure(figsize=figsize)\n",
        "sns.violinplot(coaches_df, x='ExperienceLevel', y='CoachingStyle', inner='stick', palette='Dark2')\n",
        "sns.despine(top=True, right=True, bottom=True, left=True)"
      ],
      "cell_type": "code",
      "metadata": {
        "colab": {
          "base_uri": "https://localhost:8080/",
          "height": 468
        },
        "id": "1lgZTUXCFrsL",
        "outputId": "6b1c4498-f3ec-4da9-f170-32ceefe64892"
      },
      "execution_count": null,
      "outputs": [
        {
          "output_type": "stream",
          "name": "stderr",
          "text": [
            "<ipython-input-72-4649c8d546f9>:5: FutureWarning: \n",
            "\n",
            "Passing `palette` without assigning `hue` is deprecated and will be removed in v0.14.0. Assign the `y` variable to `hue` and set `legend=False` for the same effect.\n",
            "\n",
            "  sns.violinplot(coaches_df, x='ExperienceLevel', y='CoachingStyle', inner='stick', palette='Dark2')\n"
          ]
        },
        {
          "output_type": "display_data",
          "data": {
            "text/plain": [
              "<Figure size 1200x360 with 1 Axes>"
            ],
            "image/png": "[encoded data removed]"
          },
          "metadata": {}
        }
      ]
    },
    {
      "source": [
        "from matplotlib import pyplot as plt\n",
        "coaches_df['ExperienceLevel'].plot(kind='line', figsize=(8, 4), title='ExperienceLevel')\n",
        "plt.gca().spines[['top', 'right']].set_visible(False)"
      ],
      "cell_type": "code",
      "metadata": {
        "colab": {
          "base_uri": "https://localhost:8080/",
          "height": 391
        },
        "id": "w6upq_9MFotl",
        "outputId": "1fd8686f-067a-4e60-be8d-00e9ec7c5712"
      },
      "execution_count": null,
      "outputs": [
        {
          "output_type": "display_data",
          "data": {
            "text/plain": [
              "<Figure size 800x400 with 1 Axes>"
            ],
            "image/png": "[encoded data removed]"
          },
          "metadata": {}
        }
      ]
    },
    {
      "source": [
        "from matplotlib import pyplot as plt\n",
        "import seaborn as sns\n",
        "coaches_df.groupby('CoachingStyle').size().plot(kind='barh', color=sns.palettes.mpl_palette('Dark2'))\n",
        "plt.gca().spines[['top', 'right',]].set_visible(False)"
      ],
      "cell_type": "code",
      "metadata": {
        "colab": {
          "base_uri": "https://localhost:8080/",
          "height": 430
        },
        "id": "NtdE4IDnFlhU",
        "outputId": "46dd91c6-844d-49e4-9e12-8391a567750b"
      },
      "execution_count": null,
      "outputs": [
        {
          "output_type": "display_data",
          "data": {
            "text/plain": [
              "<Figure size 640x480 with 1 Axes>"
            ],
            "image/png": "[encoded data removed]"
          },
          "metadata": {}
        }
      ]
    },
    {
      "source": [
        "from matplotlib import pyplot as plt\n",
        "coaches_df['ExperienceLevel'].plot(kind='hist', bins=20, title='ExperienceLevel')\n",
        "plt.gca().spines[['top', 'right',]].set_visible(False)"
      ],
      "cell_type": "code",
      "metadata": {
        "colab": {
          "base_uri": "https://localhost:8080/",
          "height": 452
        },
        "id": "ByyddJnmFitn",
        "outputId": "79fb9946-6e8d-4a07-b108-92747734ddfa"
      },
      "execution_count": null,
      "outputs": [
        {
          "output_type": "display_data",
          "data": {
            "text/plain": [
              "<Figure size 640x480 with 1 Axes>"
            ],
            "image/png": "[encoded data removed]"
          },
          "metadata": {}
        }
      ]
    },
    {
      "cell_type": "markdown",
      "source": [
        "# Preparing Data"
      ],
      "metadata": {
        "id": "W0PjdX57BFD7"
      }
    },
    {
      "cell_type": "markdown",
      "source": [
        "## Define the compatibility scoring system\n"
      ],
      "metadata": {
        "id": "ymxixAB1CErN"
      }
    },
    {
      "cell_type": "code",
      "source": [
        "def calculate_compatibility_score(employee, coach):\n",
        "    score = 0\n",
        "    if employee['Department'] in ['IT', 'Finance'] and 'Career' in coach['Specializations']:\n",
        "        score += 2\n",
        "    if employee['CareerGoals'] == 'Leadership' and 'Career' in coach['Specializations']:\n",
        "        score += 2\n",
        "    if employee['EmotionalSupportNeeds'] == 'High' and 'Emotional' in coach['Specializations']:\n",
        "        score += 2\n",
        "    if any(skill in coach['Specializations'] for skill in employee['SkillDevelopmentAreas']):\n",
        "        score += 2\n",
        "    if employee['CoachingStyle'] == coach['CoachingStyle']:\n",
        "        score += 1\n",
        "    if set(employee['Availability']).intersection(set(coach['Availability'])):\n",
        "        score += 1\n",
        "    return score"
      ],
      "metadata": {
        "id": "d8R-LGZ8C8mG"
      },
      "execution_count": null,
      "outputs": []
    },
    {
      "cell_type": "markdown",
      "source": [
        "## Create the training dataset"
      ],
      "metadata": {
        "id": "AOzenMK0CPre"
      }
    },
    {
      "cell_type": "code",
      "source": [
        "data = []\n",
        "for emp in employees:\n",
        "    for coach in coaches:\n",
        "        score = calculate_compatibility_score(emp, coach)\n",
        "        data.append({\n",
        "            'Department': emp['Department'],\n",
        "            'CareerGoals': emp['CareerGoals'],\n",
        "            'EmotionalSupportNeeds': emp['EmotionalSupportNeeds'],\n",
        "            'CoachingStyle': emp['CoachingStyle'],\n",
        "            'ExperienceLevel': coach['ExperienceLevel'],\n",
        "            'CompatibilityScore': score\n",
        "        })"
      ],
      "metadata": {
        "id": "Lx98a0o9C-XT"
      },
      "execution_count": null,
      "outputs": []
    },
    {
      "cell_type": "markdown",
      "source": [
        "## Convert to DataFrame"
      ],
      "metadata": {
        "id": "geu5mex9Chem"
      }
    },
    {
      "cell_type": "code",
      "source": [
        "data_df = pd.DataFrame(data)\n",
        "display(data_df)"
      ],
      "metadata": {
        "id": "dDgSJT_2DAJ6",
        "colab": {
          "base_uri": "https://localhost:8080/",
          "height": 423
        },
        "outputId": "0522fb3d-89ce-4eee-96d6-1a9efb54285e"
      },
      "execution_count": null,
      "outputs": [
        {
          "output_type": "display_data",
          "data": {
            "text/plain": [
              "    Department CareerGoals EmotionalSupportNeeds CoachingStyle  \\\n",
              "0    Marketing  Management                Medium    Structured   \n",
              "1    Marketing  Management                Medium    Structured   \n",
              "2    Marketing  Management                Medium    Structured   \n",
              "3    Marketing  Management                Medium    Structured   \n",
              "4    Marketing  Management                Medium    Structured   \n",
              "..         ...         ...                   ...           ...   \n",
              "995    Finance  Leadership                Medium      Flexible   \n",
              "996    Finance  Leadership                Medium      Flexible   \n",
              "997    Finance  Leadership                Medium      Flexible   \n",
              "998    Finance  Leadership                Medium      Flexible   \n",
              "999    Finance  Leadership                Medium      Flexible   \n",
              "\n",
              "     ExperienceLevel  CompatibilityScore  \n",
              "0                  6                   1  \n",
              "1                 14                   1  \n",
              "2                 14                   1  \n",
              "3                 13                   1  \n",
              "4                  1                   1  \n",
              "..               ...                 ...  \n",
              "995               11                   5  \n",
              "996               13                   6  \n",
              "997               14                   1  \n",
              "998                7                   1  \n",
              "999               16                   6  \n",
              "\n",
              "[1000 rows x 6 columns]"
            ],
            "text/html": [
              "\n",
              "  <div id=\"df-558e3b40-e698-4ca0-8356-96993554efbb\" class=\"colab-df-container\">\n",
              "    <div>\n",
              "<style scoped>\n",
              "    .dataframe tbody tr th:only-of-type {\n",
              "        vertical-align: middle;\n",
              "    }\n",
              "\n",
              "    .dataframe tbody tr th {\n",
              "        vertical-align: top;\n",
              "    }\n",
              "\n",
              "    .dataframe thead th {\n",
              "        text-align: right;\n",
              "    }\n",
              "</style>\n",
              "<table border=\"1\" class=\"dataframe\">\n",
              "  <thead>\n",
              "    <tr style=\"text-align: right;\">\n",
              "      <th></th>\n",
              "      <th>Department</th>\n",
              "      <th>CareerGoals</th>\n",
              "      <th>EmotionalSupportNeeds</th>\n",
              "      <th>CoachingStyle</th>\n",
              "      <th>ExperienceLevel</th>\n",
              "      <th>CompatibilityScore</th>\n",
              "    </tr>\n",
              "  </thead>\n",
              "  <tbody>\n",
              "    <tr>\n",
              "      <th>0</th>\n",
              "      <td>Marketing</td>\n",
              "      <td>Management</td>\n",
              "      <td>Medium</td>\n",
              "      <td>Structured</td>\n",
              "      <td>6</td>\n",
              "      <td>1</td>\n",
              "    </tr>\n",
              "    <tr>\n",
              "      <th>1</th>\n",
              "      <td>Marketing</td>\n",
              "      <td>Management</td>\n",
              "      <td>Medium</td>\n",
              "      <td>Structured</td>\n",
              "      <td>14</td>\n",
              "      <td>1</td>\n",
              "    </tr>\n",
              "    <tr>\n",
              "      <th>2</th>\n",
              "      <td>Marketing</td>\n",
              "      <td>Management</td>\n",
              "      <td>Medium</td>\n",
              "      <td>Structured</td>\n",
              "      <td>14</td>\n",
              "      <td>1</td>\n",
              "    </tr>\n",
              "    <tr>\n",
              "      <th>3</th>\n",
              "      <td>Marketing</td>\n",
              "      <td>Management</td>\n",
              "      <td>Medium</td>\n",
              "      <td>Structured</td>\n",
              "      <td>13</td>\n",
              "      <td>1</td>\n",
              "    </tr>\n",
              "    <tr>\n",
              "      <th>4</th>\n",
              "      <td>Marketing</td>\n",
              "      <td>Management</td>\n",
              "      <td>Medium</td>\n",
              "      <td>Structured</td>\n",
              "      <td>1</td>\n",
              "      <td>1</td>\n",
              "    </tr>\n",
              "    <tr>\n",
              "      <th>...</th>\n",
              "      <td>...</td>\n",
              "      <td>...</td>\n",
              "      <td>...</td>\n",
              "      <td>...</td>\n",
              "      <td>...</td>\n",
              "      <td>...</td>\n",
              "    </tr>\n",
              "    <tr>\n",
              "      <th>995</th>\n",
              "      <td>Finance</td>\n",
              "      <td>Leadership</td>\n",
              "      <td>Medium</td>\n",
              "      <td>Flexible</td>\n",
              "      <td>11</td>\n",
              "      <td>5</td>\n",
              "    </tr>\n",
              "    <tr>\n",
              "      <th>996</th>\n",
              "      <td>Finance</td>\n",
              "      <td>Leadership</td>\n",
              "      <td>Medium</td>\n",
              "      <td>Flexible</td>\n",
              "      <td>13</td>\n",
              "      <td>6</td>\n",
              "    </tr>\n",
              "    <tr>\n",
              "      <th>997</th>\n",
              "      <td>Finance</td>\n",
              "      <td>Leadership</td>\n",
              "      <td>Medium</td>\n",
              "      <td>Flexible</td>\n",
              "      <td>14</td>\n",
              "      <td>1</td>\n",
              "    </tr>\n",
              "    <tr>\n",
              "      <th>998</th>\n",
              "      <td>Finance</td>\n",
              "      <td>Leadership</td>\n",
              "      <td>Medium</td>\n",
              "      <td>Flexible</td>\n",
              "      <td>7</td>\n",
              "      <td>1</td>\n",
              "    </tr>\n",
              "    <tr>\n",
              "      <th>999</th>\n",
              "      <td>Finance</td>\n",
              "      <td>Leadership</td>\n",
              "      <td>Medium</td>\n",
              "      <td>Flexible</td>\n",
              "      <td>16</td>\n",
              "      <td>6</td>\n",
              "    </tr>\n",
              "  </tbody>\n",
              "</table>\n",
              "<p>1000 rows × 6 columns</p>\n",
              "</div>\n",
              "    <div class=\"colab-df-buttons\">\n",
              "\n",
              "  <div class=\"colab-df-container\">\n",
              "    <button class=\"colab-df-convert\" onclick=\"convertToInteractive('df-558e3b40-e698-4ca0-8356-96993554efbb')\"\n",
              "            title=\"Convert this dataframe to an interactive table.\"\n",
              "            style=\"display:none;\">\n",
              "\n",
              "  <svg xmlns=\"http://www.w3.org/2000/svg\" height=\"24px\" viewBox=\"0 -960 960 960\">\n",
              "    <path d=\"M120-120v-720h720v720H120Zm60-500h600v-160H180v160Zm220 220h160v-160H400v160Zm0 220h160v-160H400v160ZM180-400h160v-160H180v160Zm440 0h160v-160H620v160ZM180-180h160v-160H180v160Zm440 0h160v-160H620v160Z\"/>\n",
              "  </svg>\n",
              "    </button>\n",
              "\n",
              "  <style>\n",
              "    .colab-df-container {\n",
              "      display:flex;\n",
              "      gap: 12px;\n",
              "    }\n",
              "\n",
              "    .colab-df-convert {\n",
              "      background-color: #E8F0FE;\n",
              "      border: none;\n",
              "      border-radius: 50%;\n",
              "      cursor: pointer;\n",
              "      display: none;\n",
              "      fill: #1967D2;\n",
              "      height: 32px;\n",
              "      padding: 0 0 0 0;\n",
              "      width: 32px;\n",
              "    }\n",
              "\n",
              "    .colab-df-convert:hover {\n",
              "      background-color: #E2EBFA;\n",
              "      box-shadow: 0px 1px 2px rgba(60, 64, 67, 0.3), 0px 1px 3px 1px rgba(60, 64, 67, 0.15);\n",
              "      fill: #174EA6;\n",
              "    }\n",
              "\n",
              "    .colab-df-buttons div {\n",
              "      margin-bottom: 4px;\n",
              "    }\n",
              "\n",
              "    [theme=dark] .colab-df-convert {\n",
              "      background-color: #3B4455;\n",
              "      fill: #D2E3FC;\n",
              "    }\n",
              "\n",
              "    [theme=dark] .colab-df-convert:hover {\n",
              "      background-color: #434B5C;\n",
              "      box-shadow: 0px 1px 3px 1px rgba(0, 0, 0, 0.15);\n",
              "      filter: drop-shadow(0px 1px 2px rgba(0, 0, 0, 0.3));\n",
              "      fill: #FFFFFF;\n",
              "    }\n",
              "  </style>\n",
              "\n",
              "    <script>\n",
              "      const buttonEl =\n",
              "        document.querySelector('#df-558e3b40-e698-4ca0-8356-96993554efbb button.colab-df-convert');\n",
              "      buttonEl.style.display =\n",
              "        google.colab.kernel.accessAllowed ? 'block' : 'none';\n",
              "\n",
              "      async function convertToInteractive(key) {\n",
              "        const element = document.querySelector('#df-558e3b40-e698-4ca0-8356-96993554efbb');\n",
              "        const dataTable =\n",
              "          await google.colab.kernel.invokeFunction('convertToInteractive',\n",
              "                                                    [key], {});\n",
              "        if (!dataTable) return;\n",
              "\n",
              "        const docLinkHtml = 'Like what you see? Visit the ' +\n",
              "          '<a target=\"_blank\" href=https://colab.research.google.com/notebooks/data_table.ipynb>data table notebook</a>'\n",
              "          + ' to learn more about interactive tables.';\n",
              "        element.innerHTML = '';\n",
              "        dataTable['output_type'] = 'display_data';\n",
              "        await google.colab.output.renderOutput(dataTable, element);\n",
              "        const docLink = document.createElement('div');\n",
              "        docLink.innerHTML = docLinkHtml;\n",
              "        element.appendChild(docLink);\n",
              "      }\n",
              "    </script>\n",
              "  </div>\n",
              "\n",
              "\n",
              "<div id=\"df-079a8073-79dd-4eb9-8ba6-667a42015a03\">\n",
              "  <button class=\"colab-df-quickchart\" onclick=\"quickchart('df-079a8073-79dd-4eb9-8ba6-667a42015a03')\"\n",
              "            title=\"Suggest charts\"\n",
              "            style=\"display:none;\">\n",
              "\n",
              "<svg xmlns=\"http://www.w3.org/2000/svg\" height=\"24px\"viewBox=\"0 0 24 24\"\n",
              "     width=\"24px\">\n",
              "    <g>\n",
              "        <path d=\"M19 3H5c-1.1 0-2 .9-2 2v14c0 1.1.9 2 2 2h14c1.1 0 2-.9 2-2V5c0-1.1-.9-2-2-2zM9 17H7v-7h2v7zm4 0h-2V7h2v10zm4 0h-2v-4h2v4z\"/>\n",
              "    </g>\n",
              "</svg>\n",
              "  </button>\n",
              "\n",
              "<style>\n",
              "  .colab-df-quickchart {\n",
              "      --bg-color: #E8F0FE;\n",
              "      --fill-color: #1967D2;\n",
              "      --hover-bg-color: #E2EBFA;\n",
              "      --hover-fill-color: #174EA6;\n",
              "      --disabled-fill-color: #AAA;\n",
              "      --disabled-bg-color: #DDD;\n",
              "  }\n",
              "\n",
              "  [theme=dark] .colab-df-quickchart {\n",
              "      --bg-color: #3B4455;\n",
              "      --fill-color: #D2E3FC;\n",
              "      --hover-bg-color: #434B5C;\n",
              "      --hover-fill-color: #FFFFFF;\n",
              "      --disabled-bg-color: #3B4455;\n",
              "      --disabled-fill-color: #666;\n",
              "  }\n",
              "\n",
              "  .colab-df-quickchart {\n",
              "    background-color: var(--bg-color);\n",
              "    border: none;\n",
              "    border-radius: 50%;\n",
              "    cursor: pointer;\n",
              "    display: none;\n",
              "    fill: var(--fill-color);\n",
              "    height: 32px;\n",
              "    padding: 0;\n",
              "    width: 32px;\n",
              "  }\n",
              "\n",
              "  .colab-df-quickchart:hover {\n",
              "    background-color: var(--hover-bg-color);\n",
              "    box-shadow: 0 1px 2px rgba(60, 64, 67, 0.3), 0 1px 3px 1px rgba(60, 64, 67, 0.15);\n",
              "    fill: var(--button-hover-fill-color);\n",
              "  }\n",
              "\n",
              "  .colab-df-quickchart-complete:disabled,\n",
              "  .colab-df-quickchart-complete:disabled:hover {\n",
              "    background-color: var(--disabled-bg-color);\n",
              "    fill: var(--disabled-fill-color);\n",
              "    box-shadow: none;\n",
              "  }\n",
              "\n",
              "  .colab-df-spinner {\n",
              "    border: 2px solid var(--fill-color);\n",
              "    border-color: transparent;\n",
              "    border-bottom-color: var(--fill-color);\n",
              "    animation:\n",
              "      spin 1s steps(1) infinite;\n",
              "  }\n",
              "\n",
              "  @keyframes spin {\n",
              "    0% {\n",
              "      border-color: transparent;\n",
              "      border-bottom-color: var(--fill-color);\n",
              "      border-left-color: var(--fill-color);\n",
              "    }\n",
              "    20% {\n",
              "      border-color: transparent;\n",
              "      border-left-color: var(--fill-color);\n",
              "      border-top-color: var(--fill-color);\n",
              "    }\n",
              "    30% {\n",
              "      border-color: transparent;\n",
              "      border-left-color: var(--fill-color);\n",
              "      border-top-color: var(--fill-color);\n",
              "      border-right-color: var(--fill-color);\n",
              "    }\n",
              "    40% {\n",
              "      border-color: transparent;\n",
              "      border-right-color: var(--fill-color);\n",
              "      border-top-color: var(--fill-color);\n",
              "    }\n",
              "    60% {\n",
              "      border-color: transparent;\n",
              "      border-right-color: var(--fill-color);\n",
              "    }\n",
              "    80% {\n",
              "      border-color: transparent;\n",
              "      border-right-color: var(--fill-color);\n",
              "      border-bottom-color: var(--fill-color);\n",
              "    }\n",
              "    90% {\n",
              "      border-color: transparent;\n",
              "      border-bottom-color: var(--fill-color);\n",
              "    }\n",
              "  }\n",
              "</style>\n",
              "\n",
              "  <script>\n",
              "    async function quickchart(key) {\n",
              "      const quickchartButtonEl =\n",
              "        document.querySelector('#' + key + ' button');\n",
              "      quickchartButtonEl.disabled = true;  // To prevent multiple clicks.\n",
              "      quickchartButtonEl.classList.add('colab-df-spinner');\n",
              "      try {\n",
              "        const charts = await google.colab.kernel.invokeFunction(\n",
              "            'suggestCharts', [key], {});\n",
              "      } catch (error) {\n",
              "        console.error('Error during call to suggestCharts:', error);\n",
              "      }\n",
              "      quickchartButtonEl.classList.remove('colab-df-spinner');\n",
              "      quickchartButtonEl.classList.add('colab-df-quickchart-complete');\n",
              "    }\n",
              "    (() => {\n",
              "      let quickchartButtonEl =\n",
              "        document.querySelector('#df-079a8073-79dd-4eb9-8ba6-667a42015a03 button');\n",
              "      quickchartButtonEl.style.display =\n",
              "        google.colab.kernel.accessAllowed ? 'block' : 'none';\n",
              "    })();\n",
              "  </script>\n",
              "</div>\n",
              "\n",
              "  <div id=\"id_97a4957f-3499-473a-8752-fea65df5ee91\">\n",
              "    <style>\n",
              "      .colab-df-generate {\n",
              "        background-color: #E8F0FE;\n",
              "        border: none;\n",
              "        border-radius: 50%;\n",
              "        cursor: pointer;\n",
              "        display: none;\n",
              "        fill: #1967D2;\n",
              "        height: 32px;\n",
              "        padding: 0 0 0 0;\n",
              "        width: 32px;\n",
              "      }\n",
              "\n",
              "      .colab-df-generate:hover {\n",
              "        background-color: #E2EBFA;\n",
              "        box-shadow: 0px 1px 2px rgba(60, 64, 67, 0.3), 0px 1px 3px 1px rgba(60, 64, 67, 0.15);\n",
              "        fill: #174EA6;\n",
              "      }\n",
              "\n",
              "      [theme=dark] .colab-df-generate {\n",
              "        background-color: #3B4455;\n",
              "        fill: #D2E3FC;\n",
              "      }\n",
              "\n",
              "      [theme=dark] .colab-df-generate:hover {\n",
              "        background-color: #434B5C;\n",
              "        box-shadow: 0px 1px 3px 1px rgba(0, 0, 0, 0.15);\n",
              "        filter: drop-shadow(0px 1px 2px rgba(0, 0, 0, 0.3));\n",
              "        fill: #FFFFFF;\n",
              "      }\n",
              "    </style>\n",
              "    <button class=\"colab-df-generate\" onclick=\"generateWithVariable('data_df')\"\n",
              "            title=\"Generate code using this dataframe.\"\n",
              "            style=\"display:none;\">\n",
              "\n",
              "  <svg xmlns=\"http://www.w3.org/2000/svg\" height=\"24px\"viewBox=\"0 0 24 24\"\n",
              "       width=\"24px\">\n",
              "    <path d=\"M7,19H8.4L18.45,9,17,7.55,7,17.6ZM5,21V16.75L18.45,3.32a2,2,0,0,1,2.83,0l1.4,1.43a1.91,1.91,0,0,1,.58,1.4,1.91,1.91,0,0,1-.58,1.4L9.25,21ZM18.45,9,17,7.55Zm-12,3A5.31,5.31,0,0,0,4.9,8.1,5.31,5.31,0,0,0,1,6.5,5.31,5.31,0,0,0,4.9,4.9,5.31,5.31,0,0,0,6.5,1,5.31,5.31,0,0,0,8.1,4.9,5.31,5.31,0,0,0,12,6.5,5.46,5.46,0,0,0,6.5,12Z\"/>\n",
              "  </svg>\n",
              "    </button>\n",
              "    <script>\n",
              "      (() => {\n",
              "      const buttonEl =\n",
              "        document.querySelector('#id_97a4957f-3499-473a-8752-fea65df5ee91 button.colab-df-generate');\n",
              "      buttonEl.style.display =\n",
              "        google.colab.kernel.accessAllowed ? 'block' : 'none';\n",
              "\n",
              "      buttonEl.onclick = () => {\n",
              "        google.colab.notebook.generateWithVariable('data_df');\n",
              "      }\n",
              "      })();\n",
              "    </script>\n",
              "  </div>\n",
              "\n",
              "    </div>\n",
              "  </div>\n"
            ],
            "application/vnd.google.colaboratory.intrinsic+json": {
              "type": "dataframe",
              "variable_name": "data_df",
              "summary": "{\n  \"name\": \"data_df\",\n  \"rows\": 1000,\n  \"fields\": [\n    {\n      \"column\": \"Department\",\n      \"properties\": {\n        \"dtype\": \"category\",\n        \"num_unique_values\": 5,\n        \"samples\": [\n          \"HR\",\n          \"IT\",\n          \"Finance\"\n        ],\n        \"semantic_type\": \"\",\n        \"description\": \"\"\n      }\n    },\n    {\n      \"column\": \"CareerGoals\",\n      \"properties\": {\n        \"dtype\": \"category\",\n        \"num_unique_values\": 4,\n        \"samples\": [\n          \"Soft Skills Improvement\",\n          \"Leadership\",\n          \"Management\"\n        ],\n        \"semantic_type\": \"\",\n        \"description\": \"\"\n      }\n    },\n    {\n      \"column\": \"EmotionalSupportNeeds\",\n      \"properties\": {\n        \"dtype\": \"category\",\n        \"num_unique_values\": 3,\n        \"samples\": [\n          \"Medium\",\n          \"High\",\n          \"Low\"\n        ],\n        \"semantic_type\": \"\",\n        \"description\": \"\"\n      }\n    },\n    {\n      \"column\": \"CoachingStyle\",\n      \"properties\": {\n        \"dtype\": \"category\",\n        \"num_unique_values\": 3,\n        \"samples\": [\n          \"Structured\",\n          \"Mentorship\",\n          \"Flexible\"\n        ],\n        \"semantic_type\": \"\",\n        \"description\": \"\"\n      }\n    },\n    {\n      \"column\": \"ExperienceLevel\",\n      \"properties\": {\n        \"dtype\": \"number\",\n        \"std\": 4,\n        \"min\": 1,\n        \"max\": 16,\n        \"num_unique_values\": 7,\n        \"samples\": [\n          6,\n          14,\n          7\n        ],\n        \"semantic_type\": \"\",\n        \"description\": \"\"\n      }\n    },\n    {\n      \"column\": \"CompatibilityScore\",\n      \"properties\": {\n        \"dtype\": \"number\",\n        \"std\": 1,\n        \"min\": 0,\n        \"max\": 8,\n        \"num_unique_values\": 9,\n        \"samples\": [\n          7,\n          2,\n          5\n        ],\n        \"semantic_type\": \"\",\n        \"description\": \"\"\n      }\n    }\n  ]\n}"
            }
          },
          "metadata": {}
        }
      ]
    },
    {
      "cell_type": "markdown",
      "source": [
        "## Encode categorical variables\n"
      ],
      "metadata": {
        "id": "B08W_FG0ClbU"
      }
    },
    {
      "cell_type": "code",
      "source": [
        "label_encoders = {}\n",
        "for column in ['Department', 'CareerGoals', 'EmotionalSupportNeeds', 'CoachingStyle']:\n",
        "    label_encoders[column] = LabelEncoder()\n",
        "    data_df[column] = label_encoders[column].fit_transform(data_df[column])"
      ],
      "metadata": {
        "id": "kw9mOPCRDCGr"
      },
      "execution_count": null,
      "outputs": []
    },
    {
      "cell_type": "markdown",
      "source": [
        "## Split the data into features (X) and target (y)\n"
      ],
      "metadata": {
        "id": "l8vYfFA7Cq19"
      }
    },
    {
      "cell_type": "code",
      "source": [
        "X = data_df.drop('CompatibilityScore', axis=1)\n",
        "y = data_df['CompatibilityScore']"
      ],
      "metadata": {
        "id": "4tTMiS5oDEO9"
      },
      "execution_count": null,
      "outputs": []
    },
    {
      "cell_type": "markdown",
      "source": [
        "## Split the data into training and testing sets"
      ],
      "metadata": {
        "id": "X1_e-KDZCvLq"
      }
    },
    {
      "cell_type": "code",
      "source": [
        "X_train, X_test, y_train, y_test = train_test_split(X, y, test_size=0.2, random_state=42)"
      ],
      "metadata": {
        "id": "ZbC_b2NGDGIZ"
      },
      "execution_count": null,
      "outputs": []
    },
    {
      "cell_type": "markdown",
      "source": [
        "## Input layers\n"
      ],
      "metadata": {
        "id": "w_a_ijV-CyAT"
      }
    },
    {
      "cell_type": "code",
      "source": [
        "input_department = Input(shape=(1,))\n",
        "input_career_goals = Input(shape=(1,))\n",
        "input_emotional_support_needs = Input(shape=(1,))\n",
        "input_coaching_style = Input(shape=(1,))\n",
        "input_experience_level = Input(shape=(1,))"
      ],
      "metadata": {
        "id": "JG2z1oXuDIC8"
      },
      "execution_count": null,
      "outputs": []
    },
    {
      "cell_type": "markdown",
      "source": [
        "## Embedding layers\n"
      ],
      "metadata": {
        "id": "xgzfiqgCC6s-"
      }
    },
    {
      "cell_type": "code",
      "source": [
        "embedding_department = Embedding(input_dim=len(departments), output_dim=4)(input_department)\n",
        "embedding_career_goals = Embedding(input_dim=len(career_goals), output_dim=4)(input_career_goals)\n",
        "embedding_emotional_support_needs = Embedding(input_dim=len(emotional_support_needs), output_dim=4)(input_emotional_support_needs)\n",
        "embedding_coaching_style = Embedding(input_dim=len(coaching_styles), output_dim=4)(input_coaching_style)"
      ],
      "metadata": {
        "id": "nAgq1YqqDK1e"
      },
      "execution_count": null,
      "outputs": []
    },
    {
      "cell_type": "markdown",
      "source": [
        "## Flatten embedding layers\n"
      ],
      "metadata": {
        "id": "zBsuZfuuC6EV"
      }
    },
    {
      "cell_type": "code",
      "source": [
        "flat_department = Flatten()(embedding_department)\n",
        "flat_career_goals = Flatten()(embedding_career_goals)\n",
        "flat_emotional_support_needs = Flatten()(embedding_emotional_support_needs)\n",
        "flat_coaching_style = Flatten()(embedding_coaching_style)"
      ],
      "metadata": {
        "id": "Ie4K9rU-DMQC"
      },
      "execution_count": null,
      "outputs": []
    },
    {
      "cell_type": "markdown",
      "source": [
        "## Concatenate all features\n"
      ],
      "metadata": {
        "id": "Id-L5g0RDA9-"
      }
    },
    {
      "cell_type": "code",
      "source": [
        "concatenated = Concatenate()([flat_department, flat_career_goals, flat_emotional_support_needs, flat_coaching_style, input_experience_level])"
      ],
      "metadata": {
        "id": "FNzSK6tUDN-q"
      },
      "execution_count": null,
      "outputs": []
    },
    {
      "cell_type": "markdown",
      "source": [
        "# Build the model"
      ],
      "metadata": {
        "id": "g9RMl6CjD1qh"
      }
    },
    {
      "cell_type": "markdown",
      "source": [
        "## Fully connected layers\n"
      ],
      "metadata": {
        "id": "AUptFTSVDBbr"
      }
    },
    {
      "cell_type": "code",
      "source": [
        "x = Dense(64, activation='relu')(concatenated)\n",
        "x = BatchNormalization()(x)\n",
        "x = Dropout(0.5)(x)\n",
        "x = Dense(32, activation='relu')(x)\n",
        "x = BatchNormalization()(x)\n",
        "x = Dropout(0.5)(x)\n",
        "output = Dense(1, activation='linear')(x)  # For regression (predicting compatibility score)"
      ],
      "metadata": {
        "id": "tcm_qcXGDPj4"
      },
      "execution_count": null,
      "outputs": []
    },
    {
      "cell_type": "markdown",
      "source": [
        "## Define the model"
      ],
      "metadata": {
        "id": "7r7n0GVpC_Dd"
      }
    },
    {
      "cell_type": "code",
      "source": [
        "model = Model(inputs=[input_department, input_career_goals, input_emotional_support_needs, input_coaching_style, input_experience_level], outputs=output)"
      ],
      "metadata": {
        "id": "5F1bCThEDRdB"
      },
      "execution_count": null,
      "outputs": []
    },
    {
      "cell_type": "markdown",
      "source": [
        "## Compile the model\n"
      ],
      "metadata": {
        "id": "LN3_QZQZDNQV"
      }
    },
    {
      "cell_type": "code",
      "source": [
        "model.compile(optimizer='adam', loss='mean_squared_error', metrics=['mae'])"
      ],
      "metadata": {
        "id": "7zIlT5E_DTlr"
      },
      "execution_count": null,
      "outputs": []
    },
    {
      "cell_type": "markdown",
      "source": [
        "## Prepare input data for the model\n"
      ],
      "metadata": {
        "id": "Yv5FD8HUDOV2"
      }
    },
    {
      "cell_type": "code",
      "source": [
        "train_inputs = [X_train['Department'], X_train['CareerGoals'], X_train['EmotionalSupportNeeds'], X_train['CoachingStyle'], X_train['ExperienceLevel']]\n",
        "test_inputs = [X_test['Department'], X_test['CareerGoals'], X_test['EmotionalSupportNeeds'], X_test['CoachingStyle'], X_test['ExperienceLevel']]"
      ],
      "metadata": {
        "id": "BFKfg_Q5DWIq"
      },
      "execution_count": null,
      "outputs": []
    },
    {
      "cell_type": "markdown",
      "source": [
        "## Train the model\n"
      ],
      "metadata": {
        "id": "_sR9ef-wDRxW"
      }
    },
    {
      "cell_type": "code",
      "source": [
        "model.fit(train_inputs, y_train, epochs=50, batch_size=10, validation_split=0.2)"
      ],
      "metadata": {
        "colab": {
          "base_uri": "https://localhost:8080/"
        },
        "id": "s9gst6LSDYKM",
        "outputId": "b134bc8d-95e4-4f59-d329-5f97cc05138c"
      },
      "execution_count": null,
      "outputs": [
        {
          "output_type": "stream",
          "name": "stdout",
          "text": [
            "Epoch 1/50\n",
            "64/64 [==============================] - 2s 8ms/step - loss: 10.0653 - mae: 2.5357 - val_loss: 8.5480 - val_mae: 2.5271\n",
            "Epoch 2/50\n",
            "64/64 [==============================] - 0s 4ms/step - loss: 8.1999 - mae: 2.2383 - val_loss: 4.6824 - val_mae: 1.7063\n",
            "Epoch 3/50\n",
            "64/64 [==============================] - 0s 5ms/step - loss: 6.2036 - mae: 2.0050 - val_loss: 3.8226 - val_mae: 1.4988\n",
            "Epoch 4/50\n",
            "64/64 [==============================] - 0s 4ms/step - loss: 4.9205 - mae: 1.7560 - val_loss: 3.1518 - val_mae: 1.4027\n",
            "Epoch 5/50\n",
            "64/64 [==============================] - 0s 5ms/step - loss: 4.5209 - mae: 1.6573 - val_loss: 2.9895 - val_mae: 1.3610\n",
            "Epoch 6/50\n",
            "64/64 [==============================] - 0s 5ms/step - loss: 4.2669 - mae: 1.6081 - val_loss: 2.5691 - val_mae: 1.2701\n",
            "Epoch 7/50\n",
            "64/64 [==============================] - 0s 4ms/step - loss: 3.8116 - mae: 1.5317 - val_loss: 2.2256 - val_mae: 1.1816\n",
            "Epoch 8/50\n",
            "64/64 [==============================] - 0s 4ms/step - loss: 3.5921 - mae: 1.4769 - val_loss: 1.9762 - val_mae: 1.1218\n",
            "Epoch 9/50\n",
            "64/64 [==============================] - 0s 5ms/step - loss: 3.3433 - mae: 1.4294 - val_loss: 1.8274 - val_mae: 1.0888\n",
            "Epoch 10/50\n",
            "64/64 [==============================] - 0s 5ms/step - loss: 2.9756 - mae: 1.3597 - val_loss: 1.9111 - val_mae: 1.0975\n",
            "Epoch 11/50\n",
            "64/64 [==============================] - 0s 4ms/step - loss: 3.0374 - mae: 1.3770 - val_loss: 2.0365 - val_mae: 1.1171\n",
            "Epoch 12/50\n",
            "64/64 [==============================] - 0s 4ms/step - loss: 2.8409 - mae: 1.3180 - val_loss: 1.7963 - val_mae: 1.0780\n",
            "Epoch 13/50\n",
            "64/64 [==============================] - 0s 5ms/step - loss: 2.5626 - mae: 1.2721 - val_loss: 1.8640 - val_mae: 1.1099\n",
            "Epoch 14/50\n",
            "64/64 [==============================] - 0s 5ms/step - loss: 2.7434 - mae: 1.2968 - val_loss: 1.3984 - val_mae: 0.9091\n",
            "Epoch 15/50\n",
            "64/64 [==============================] - 0s 4ms/step - loss: 2.4703 - mae: 1.2344 - val_loss: 1.3545 - val_mae: 0.9187\n",
            "Epoch 16/50\n",
            "64/64 [==============================] - 0s 5ms/step - loss: 2.2901 - mae: 1.2061 - val_loss: 1.5725 - val_mae: 1.0173\n",
            "Epoch 17/50\n",
            "64/64 [==============================] - 0s 5ms/step - loss: 2.3927 - mae: 1.2187 - val_loss: 1.3250 - val_mae: 0.9196\n",
            "Epoch 18/50\n",
            "64/64 [==============================] - 0s 6ms/step - loss: 2.4936 - mae: 1.2532 - val_loss: 1.4481 - val_mae: 0.9621\n",
            "Epoch 19/50\n",
            "64/64 [==============================] - 1s 8ms/step - loss: 2.2822 - mae: 1.2066 - val_loss: 1.3461 - val_mae: 0.9251\n",
            "Epoch 20/50\n",
            "64/64 [==============================] - 0s 7ms/step - loss: 2.2500 - mae: 1.2084 - val_loss: 1.6299 - val_mae: 1.0559\n",
            "Epoch 21/50\n",
            "64/64 [==============================] - 0s 7ms/step - loss: 2.2006 - mae: 1.1929 - val_loss: 1.4193 - val_mae: 0.9668\n",
            "Epoch 22/50\n",
            "64/64 [==============================] - 0s 7ms/step - loss: 2.1412 - mae: 1.1845 - val_loss: 1.2580 - val_mae: 0.8951\n",
            "Epoch 23/50\n",
            "64/64 [==============================] - 1s 8ms/step - loss: 2.1553 - mae: 1.1788 - val_loss: 1.2120 - val_mae: 0.8414\n",
            "Epoch 24/50\n",
            "64/64 [==============================] - 0s 5ms/step - loss: 2.0296 - mae: 1.1346 - val_loss: 1.2247 - val_mae: 0.8738\n",
            "Epoch 25/50\n",
            "64/64 [==============================] - 0s 4ms/step - loss: 1.9560 - mae: 1.0909 - val_loss: 1.3424 - val_mae: 0.8950\n",
            "Epoch 26/50\n",
            "64/64 [==============================] - 0s 5ms/step - loss: 1.8554 - mae: 1.0869 - val_loss: 1.3720 - val_mae: 0.9184\n",
            "Epoch 27/50\n",
            "64/64 [==============================] - 0s 4ms/step - loss: 1.8642 - mae: 1.0837 - val_loss: 1.2212 - val_mae: 0.8876\n",
            "Epoch 28/50\n",
            "64/64 [==============================] - 0s 4ms/step - loss: 1.7449 - mae: 1.0664 - val_loss: 1.3454 - val_mae: 0.9122\n",
            "Epoch 29/50\n",
            "64/64 [==============================] - 0s 5ms/step - loss: 1.9483 - mae: 1.0818 - val_loss: 1.2399 - val_mae: 0.8940\n",
            "Epoch 30/50\n",
            "64/64 [==============================] - 0s 5ms/step - loss: 1.8536 - mae: 1.0806 - val_loss: 1.2007 - val_mae: 0.8511\n",
            "Epoch 31/50\n",
            "64/64 [==============================] - 0s 4ms/step - loss: 1.8865 - mae: 1.1014 - val_loss: 1.2045 - val_mae: 0.8419\n",
            "Epoch 32/50\n",
            "64/64 [==============================] - 0s 4ms/step - loss: 1.9145 - mae: 1.0910 - val_loss: 1.1889 - val_mae: 0.8592\n",
            "Epoch 33/50\n",
            "64/64 [==============================] - 0s 5ms/step - loss: 1.8718 - mae: 1.1082 - val_loss: 1.1945 - val_mae: 0.8367\n",
            "Epoch 34/50\n",
            "64/64 [==============================] - 0s 5ms/step - loss: 1.7013 - mae: 1.0314 - val_loss: 1.2532 - val_mae: 0.8600\n",
            "Epoch 35/50\n",
            "64/64 [==============================] - 0s 4ms/step - loss: 1.7914 - mae: 1.0841 - val_loss: 1.3424 - val_mae: 0.8883\n",
            "Epoch 36/50\n",
            "64/64 [==============================] - 0s 5ms/step - loss: 1.7350 - mae: 1.0536 - val_loss: 1.2131 - val_mae: 0.8827\n",
            "Epoch 37/50\n",
            "64/64 [==============================] - 0s 4ms/step - loss: 1.7617 - mae: 1.0535 - val_loss: 1.1538 - val_mae: 0.8440\n",
            "Epoch 38/50\n",
            "64/64 [==============================] - 0s 5ms/step - loss: 1.6805 - mae: 1.0359 - val_loss: 1.1537 - val_mae: 0.8387\n",
            "Epoch 39/50\n",
            "64/64 [==============================] - 0s 5ms/step - loss: 1.6766 - mae: 1.0462 - val_loss: 1.1926 - val_mae: 0.8441\n",
            "Epoch 40/50\n",
            "64/64 [==============================] - 0s 5ms/step - loss: 1.6497 - mae: 1.0251 - val_loss: 1.1751 - val_mae: 0.8506\n",
            "Epoch 41/50\n",
            "64/64 [==============================] - 0s 5ms/step - loss: 1.6548 - mae: 1.0291 - val_loss: 1.1554 - val_mae: 0.8552\n",
            "Epoch 42/50\n",
            "64/64 [==============================] - 0s 4ms/step - loss: 1.6724 - mae: 1.0294 - val_loss: 1.1916 - val_mae: 0.8561\n",
            "Epoch 43/50\n",
            "64/64 [==============================] - 0s 5ms/step - loss: 1.7122 - mae: 1.0261 - val_loss: 1.2538 - val_mae: 0.8612\n",
            "Epoch 44/50\n",
            "64/64 [==============================] - 0s 5ms/step - loss: 1.6277 - mae: 1.0107 - val_loss: 1.1673 - val_mae: 0.8472\n",
            "Epoch 45/50\n",
            "64/64 [==============================] - 0s 4ms/step - loss: 1.6622 - mae: 1.0505 - val_loss: 1.2135 - val_mae: 0.8973\n",
            "Epoch 46/50\n",
            "64/64 [==============================] - 0s 4ms/step - loss: 1.7086 - mae: 1.0284 - val_loss: 1.2501 - val_mae: 0.8592\n",
            "Epoch 47/50\n",
            "64/64 [==============================] - 0s 5ms/step - loss: 1.6262 - mae: 1.0094 - val_loss: 1.2229 - val_mae: 0.8985\n",
            "Epoch 48/50\n",
            "64/64 [==============================] - 0s 5ms/step - loss: 1.6662 - mae: 1.0226 - val_loss: 1.1515 - val_mae: 0.8435\n",
            "Epoch 49/50\n",
            "64/64 [==============================] - 0s 4ms/step - loss: 1.6693 - mae: 1.0375 - val_loss: 1.1851 - val_mae: 0.8562\n",
            "Epoch 50/50\n",
            "64/64 [==============================] - 0s 5ms/step - loss: 1.8140 - mae: 1.0671 - val_loss: 1.1622 - val_mae: 0.8471\n"
          ]
        },
        {
          "output_type": "execute_result",
          "data": {
            "text/plain": [
              "<keras.src.callbacks.History at 0x7fab39bcfbb0>"
            ]
          },
          "metadata": {},
          "execution_count": 90
        }
      ]
    },
    {
      "cell_type": "markdown",
      "source": [
        "# Evaluate and Test the Model"
      ],
      "metadata": {
        "id": "MUfYF44EECps"
      }
    },
    {
      "cell_type": "markdown",
      "source": [
        "## Evaluate the model\n"
      ],
      "metadata": {
        "id": "wnnzLmfsDT4R"
      }
    },
    {
      "cell_type": "code",
      "source": [
        "loss, mae = model.evaluate(test_inputs, y_test)\n",
        "print(f\"Mean Absolute Error: {mae}\")"
      ],
      "metadata": {
        "colab": {
          "base_uri": "https://localhost:8080/"
        },
        "id": "tmJkybuCDacu",
        "outputId": "1f468b56-d71f-40de-abd7-8358c5939f79"
      },
      "execution_count": null,
      "outputs": [
        {
          "output_type": "stream",
          "name": "stdout",
          "text": [
            "7/7 [==============================] - 0s 3ms/step - loss: 1.2799 - mae: 0.9136\n",
            "Mean Absolute Error: 0.9136075377464294\n"
          ]
        }
      ]
    },
    {
      "cell_type": "markdown",
      "source": [
        "## Predicting matches for new employee"
      ],
      "metadata": {
        "id": "k3Ej4EN8DVQ2"
      }
    },
    {
      "cell_type": "code",
      "source": [
        "new_employee = {\n",
        "    'Department': 'IT',\n",
        "    'CareerGoals': 'Leadership',\n",
        "    'EmotionalSupportNeeds': 'High',\n",
        "    'SkillDevelopmentAreas': ['Python', 'Data Analysis'],\n",
        "    'CoachingStyle': 'Structured',\n",
        "    'Availability': [10, 11, 12]\n",
        "}"
      ],
      "metadata": {
        "id": "MxwGYCBlDe0C"
      },
      "execution_count": null,
      "outputs": []
    },
    {
      "cell_type": "code",
      "source": [
        "new_employee_df = pd.DataFrame([new_employee])\n",
        "display(new_employee_df)"
      ],
      "metadata": {
        "colab": {
          "base_uri": "https://localhost:8080/",
          "height": 89
        },
        "id": "FuvEtirYDi-K",
        "outputId": "e3bd056a-90b0-4d3a-baca-0a27b421aa57"
      },
      "execution_count": null,
      "outputs": [
        {
          "output_type": "display_data",
          "data": {
            "text/plain": [
              "  Department CareerGoals EmotionalSupportNeeds    SkillDevelopmentAreas  \\\n",
              "0         IT  Leadership                  High  [Python, Data Analysis]   \n",
              "\n",
              "  CoachingStyle  Availability  \n",
              "0    Structured  [10, 11, 12]  "
            ],
            "text/html": [
              "\n",
              "  <div id=\"df-d6ca38ed-6711-49e8-8052-8bd85f0c562a\" class=\"colab-df-container\">\n",
              "    <div>\n",
              "<style scoped>\n",
              "    .dataframe tbody tr th:only-of-type {\n",
              "        vertical-align: middle;\n",
              "    }\n",
              "\n",
              "    .dataframe tbody tr th {\n",
              "        vertical-align: top;\n",
              "    }\n",
              "\n",
              "    .dataframe thead th {\n",
              "        text-align: right;\n",
              "    }\n",
              "</style>\n",
              "<table border=\"1\" class=\"dataframe\">\n",
              "  <thead>\n",
              "    <tr style=\"text-align: right;\">\n",
              "      <th></th>\n",
              "      <th>Department</th>\n",
              "      <th>CareerGoals</th>\n",
              "      <th>EmotionalSupportNeeds</th>\n",
              "      <th>SkillDevelopmentAreas</th>\n",
              "      <th>CoachingStyle</th>\n",
              "      <th>Availability</th>\n",
              "    </tr>\n",
              "  </thead>\n",
              "  <tbody>\n",
              "    <tr>\n",
              "      <th>0</th>\n",
              "      <td>IT</td>\n",
              "      <td>Leadership</td>\n",
              "      <td>High</td>\n",
              "      <td>[Python, Data Analysis]</td>\n",
              "      <td>Structured</td>\n",
              "      <td>[10, 11, 12]</td>\n",
              "    </tr>\n",
              "  </tbody>\n",
              "</table>\n",
              "</div>\n",
              "    <div class=\"colab-df-buttons\">\n",
              "\n",
              "  <div class=\"colab-df-container\">\n",
              "    <button class=\"colab-df-convert\" onclick=\"convertToInteractive('df-d6ca38ed-6711-49e8-8052-8bd85f0c562a')\"\n",
              "            title=\"Convert this dataframe to an interactive table.\"\n",
              "            style=\"display:none;\">\n",
              "\n",
              "  <svg xmlns=\"http://www.w3.org/2000/svg\" height=\"24px\" viewBox=\"0 -960 960 960\">\n",
              "    <path d=\"M120-120v-720h720v720H120Zm60-500h600v-160H180v160Zm220 220h160v-160H400v160Zm0 220h160v-160H400v160ZM180-400h160v-160H180v160Zm440 0h160v-160H620v160ZM180-180h160v-160H180v160Zm440 0h160v-160H620v160Z\"/>\n",
              "  </svg>\n",
              "    </button>\n",
              "\n",
              "  <style>\n",
              "    .colab-df-container {\n",
              "      display:flex;\n",
              "      gap: 12px;\n",
              "    }\n",
              "\n",
              "    .colab-df-convert {\n",
              "      background-color: #E8F0FE;\n",
              "      border: none;\n",
              "      border-radius: 50%;\n",
              "      cursor: pointer;\n",
              "      display: none;\n",
              "      fill: #1967D2;\n",
              "      height: 32px;\n",
              "      padding: 0 0 0 0;\n",
              "      width: 32px;\n",
              "    }\n",
              "\n",
              "    .colab-df-convert:hover {\n",
              "      background-color: #E2EBFA;\n",
              "      box-shadow: 0px 1px 2px rgba(60, 64, 67, 0.3), 0px 1px 3px 1px rgba(60, 64, 67, 0.15);\n",
              "      fill: #174EA6;\n",
              "    }\n",
              "\n",
              "    .colab-df-buttons div {\n",
              "      margin-bottom: 4px;\n",
              "    }\n",
              "\n",
              "    [theme=dark] .colab-df-convert {\n",
              "      background-color: #3B4455;\n",
              "      fill: #D2E3FC;\n",
              "    }\n",
              "\n",
              "    [theme=dark] .colab-df-convert:hover {\n",
              "      background-color: #434B5C;\n",
              "      box-shadow: 0px 1px 3px 1px rgba(0, 0, 0, 0.15);\n",
              "      filter: drop-shadow(0px 1px 2px rgba(0, 0, 0, 0.3));\n",
              "      fill: #FFFFFF;\n",
              "    }\n",
              "  </style>\n",
              "\n",
              "    <script>\n",
              "      const buttonEl =\n",
              "        document.querySelector('#df-d6ca38ed-6711-49e8-8052-8bd85f0c562a button.colab-df-convert');\n",
              "      buttonEl.style.display =\n",
              "        google.colab.kernel.accessAllowed ? 'block' : 'none';\n",
              "\n",
              "      async function convertToInteractive(key) {\n",
              "        const element = document.querySelector('#df-d6ca38ed-6711-49e8-8052-8bd85f0c562a');\n",
              "        const dataTable =\n",
              "          await google.colab.kernel.invokeFunction('convertToInteractive',\n",
              "                                                    [key], {});\n",
              "        if (!dataTable) return;\n",
              "\n",
              "        const docLinkHtml = 'Like what you see? Visit the ' +\n",
              "          '<a target=\"_blank\" href=https://colab.research.google.com/notebooks/data_table.ipynb>data table notebook</a>'\n",
              "          + ' to learn more about interactive tables.';\n",
              "        element.innerHTML = '';\n",
              "        dataTable['output_type'] = 'display_data';\n",
              "        await google.colab.output.renderOutput(dataTable, element);\n",
              "        const docLink = document.createElement('div');\n",
              "        docLink.innerHTML = docLinkHtml;\n",
              "        element.appendChild(docLink);\n",
              "      }\n",
              "    </script>\n",
              "  </div>\n",
              "\n",
              "\n",
              "  <div id=\"id_6bc940b9-96e7-415d-a69a-5bd5bf0f48bd\">\n",
              "    <style>\n",
              "      .colab-df-generate {\n",
              "        background-color: #E8F0FE;\n",
              "        border: none;\n",
              "        border-radius: 50%;\n",
              "        cursor: pointer;\n",
              "        display: none;\n",
              "        fill: #1967D2;\n",
              "        height: 32px;\n",
              "        padding: 0 0 0 0;\n",
              "        width: 32px;\n",
              "      }\n",
              "\n",
              "      .colab-df-generate:hover {\n",
              "        background-color: #E2EBFA;\n",
              "        box-shadow: 0px 1px 2px rgba(60, 64, 67, 0.3), 0px 1px 3px 1px rgba(60, 64, 67, 0.15);\n",
              "        fill: #174EA6;\n",
              "      }\n",
              "\n",
              "      [theme=dark] .colab-df-generate {\n",
              "        background-color: #3B4455;\n",
              "        fill: #D2E3FC;\n",
              "      }\n",
              "\n",
              "      [theme=dark] .colab-df-generate:hover {\n",
              "        background-color: #434B5C;\n",
              "        box-shadow: 0px 1px 3px 1px rgba(0, 0, 0, 0.15);\n",
              "        filter: drop-shadow(0px 1px 2px rgba(0, 0, 0, 0.3));\n",
              "        fill: #FFFFFF;\n",
              "      }\n",
              "    </style>\n",
              "    <button class=\"colab-df-generate\" onclick=\"generateWithVariable('new_employee_df')\"\n",
              "            title=\"Generate code using this dataframe.\"\n",
              "            style=\"display:none;\">\n",
              "\n",
              "  <svg xmlns=\"http://www.w3.org/2000/svg\" height=\"24px\"viewBox=\"0 0 24 24\"\n",
              "       width=\"24px\">\n",
              "    <path d=\"M7,19H8.4L18.45,9,17,7.55,7,17.6ZM5,21V16.75L18.45,3.32a2,2,0,0,1,2.83,0l1.4,1.43a1.91,1.91,0,0,1,.58,1.4,1.91,1.91,0,0,1-.58,1.4L9.25,21ZM18.45,9,17,7.55Zm-12,3A5.31,5.31,0,0,0,4.9,8.1,5.31,5.31,0,0,0,1,6.5,5.31,5.31,0,0,0,4.9,4.9,5.31,5.31,0,0,0,6.5,1,5.31,5.31,0,0,0,8.1,4.9,5.31,5.31,0,0,0,12,6.5,5.46,5.46,0,0,0,6.5,12Z\"/>\n",
              "  </svg>\n",
              "    </button>\n",
              "    <script>\n",
              "      (() => {\n",
              "      const buttonEl =\n",
              "        document.querySelector('#id_6bc940b9-96e7-415d-a69a-5bd5bf0f48bd button.colab-df-generate');\n",
              "      buttonEl.style.display =\n",
              "        google.colab.kernel.accessAllowed ? 'block' : 'none';\n",
              "\n",
              "      buttonEl.onclick = () => {\n",
              "        google.colab.notebook.generateWithVariable('new_employee_df');\n",
              "      }\n",
              "      })();\n",
              "    </script>\n",
              "  </div>\n",
              "\n",
              "    </div>\n",
              "  </div>\n"
            ],
            "application/vnd.google.colaboratory.intrinsic+json": {
              "type": "dataframe",
              "variable_name": "new_employee_df",
              "summary": "{\n  \"name\": \"new_employee_df\",\n  \"rows\": 1,\n  \"fields\": [\n    {\n      \"column\": \"Department\",\n      \"properties\": {\n        \"dtype\": \"string\",\n        \"num_unique_values\": 1,\n        \"samples\": [\n          \"IT\"\n        ],\n        \"semantic_type\": \"\",\n        \"description\": \"\"\n      }\n    },\n    {\n      \"column\": \"CareerGoals\",\n      \"properties\": {\n        \"dtype\": \"string\",\n        \"num_unique_values\": 1,\n        \"samples\": [\n          \"Leadership\"\n        ],\n        \"semantic_type\": \"\",\n        \"description\": \"\"\n      }\n    },\n    {\n      \"column\": \"EmotionalSupportNeeds\",\n      \"properties\": {\n        \"dtype\": \"string\",\n        \"num_unique_values\": 1,\n        \"samples\": [\n          \"High\"\n        ],\n        \"semantic_type\": \"\",\n        \"description\": \"\"\n      }\n    },\n    {\n      \"column\": \"SkillDevelopmentAreas\",\n      \"properties\": {\n        \"dtype\": \"object\",\n        \"semantic_type\": \"\",\n        \"description\": \"\"\n      }\n    },\n    {\n      \"column\": \"CoachingStyle\",\n      \"properties\": {\n        \"dtype\": \"string\",\n        \"num_unique_values\": 1,\n        \"samples\": [\n          \"Structured\"\n        ],\n        \"semantic_type\": \"\",\n        \"description\": \"\"\n      }\n    },\n    {\n      \"column\": \"Availability\",\n      \"properties\": {\n        \"dtype\": \"object\",\n        \"semantic_type\": \"\",\n        \"description\": \"\"\n      }\n    }\n  ]\n}"
            }
          },
          "metadata": {}
        }
      ]
    },
    {
      "cell_type": "markdown",
      "source": [
        "## Encode new employee data\n"
      ],
      "metadata": {
        "id": "_7VPceDEDeqO"
      }
    },
    {
      "cell_type": "code",
      "source": [
        "new_employee_encoded = {\n",
        "    'Department': label_encoders['Department'].transform([new_employee['Department']])[0],\n",
        "    'CareerGoals': label_encoders['CareerGoals'].transform([new_employee['CareerGoals']])[0],\n",
        "    'EmotionalSupportNeeds': label_encoders['EmotionalSupportNeeds'].transform([new_employee['EmotionalSupportNeeds']])[0],\n",
        "    'CoachingStyle': label_encoders['CoachingStyle'].transform([new_employee['CoachingStyle']])[0]\n",
        "}"
      ],
      "metadata": {
        "id": "gKsvTjHiDlWz"
      },
      "execution_count": null,
      "outputs": []
    },
    {
      "cell_type": "code",
      "source": [
        "new_rankings = []\n",
        "for coach in coaches:\n",
        "    # Prepare each input as a separate NumPy array\n",
        "    department_input = np.array([new_employee_encoded['Department']])\n",
        "    career_goals_input = np.array([new_employee_encoded['CareerGoals']])\n",
        "    emotional_support_input = np.array([new_employee_encoded['EmotionalSupportNeeds']])\n",
        "    coaching_style_input = np.array([new_employee_encoded['CoachingStyle']])\n",
        "    experience_level_input = np.array([coach['ExperienceLevel']])\n",
        "\n",
        "    # Pass each input separately to the model\n",
        "    score = model.predict([\n",
        "        department_input,\n",
        "        career_goals_input,\n",
        "        emotional_support_input,\n",
        "        coaching_style_input,\n",
        "        experience_level_input\n",
        "    ])[0][0]\n",
        "\n",
        "    new_rankings.append({\n",
        "        'CoachID': coach['CoachID'],\n",
        "        'CompatibilityScore': score\n",
        "    })"
      ],
      "metadata": {
        "colab": {
          "base_uri": "https://localhost:8080/"
        },
        "id": "cLPkzyXdDnWF",
        "outputId": "bd38bba0-4a39-4cdb-fc6b-4c053cd43d7b"
      },
      "execution_count": null,
      "outputs": [
        {
          "output_type": "stream",
          "name": "stdout",
          "text": [
            "1/1 [==============================] - 0s 190ms/step\n",
            "1/1 [==============================] - 0s 25ms/step\n",
            "1/1 [==============================] - 0s 25ms/step\n",
            "1/1 [==============================] - 0s 24ms/step\n",
            "1/1 [==============================] - 0s 25ms/step\n",
            "1/1 [==============================] - 0s 25ms/step\n",
            "1/1 [==============================] - 0s 27ms/step\n",
            "1/1 [==============================] - 0s 30ms/step\n",
            "1/1 [==============================] - 0s 29ms/step\n",
            "1/1 [==============================] - 0s 25ms/step\n"
          ]
        }
      ]
    },
    {
      "cell_type": "markdown",
      "source": [
        "## Convert to DataFrame and sort by score\n"
      ],
      "metadata": {
        "id": "8VcCRX6BDihv"
      }
    },
    {
      "cell_type": "code",
      "source": [
        "new_rankings_df = pd.DataFrame(new_rankings)\n",
        "new_rankings_df = new_rankings_df.sort_values(by='CompatibilityScore', ascending=False)"
      ],
      "metadata": {
        "id": "Rr8aTqB1Dq0Y"
      },
      "execution_count": null,
      "outputs": []
    },
    {
      "cell_type": "markdown",
      "source": [
        "## Output: List of top matches for the new employee"
      ],
      "metadata": {
        "id": "FiByu1MEDkzx"
      }
    },
    {
      "cell_type": "code",
      "source": [
        "print(\"\\nPredicted Matches for New Employee:\")\n",
        "display(new_rankings_df.head(10))"
      ],
      "metadata": {
        "colab": {
          "base_uri": "https://localhost:8080/",
          "height": 399
        },
        "id": "bprCCUqaDy8E",
        "outputId": "14e81096-8f87-4693-a87e-f5aceb28ccfb"
      },
      "execution_count": null,
      "outputs": [
        {
          "output_type": "stream",
          "name": "stdout",
          "text": [
            "\n",
            "Predicted Matches for New Employee:\n"
          ]
        },
        {
          "output_type": "display_data",
          "data": {
            "text/plain": [
              "  CoachID  CompatibilityScore\n",
              "4      C5            4.637507\n",
              "0      C1            4.239646\n",
              "8      C9            4.229666\n",
              "5      C6            4.174442\n",
              "9     C10            4.156449\n",
              "1      C2            4.129419\n",
              "2      C3            4.129419\n",
              "7      C8            4.129419\n",
              "3      C4            4.121680\n",
              "6      C7            4.121680"
            ],
            "text/html": [
              "\n",
              "  <div id=\"df-bc6e20e0-f5a5-43c9-9ff5-75c5a4148699\" class=\"colab-df-container\">\n",
              "    <div>\n",
              "<style scoped>\n",
              "    .dataframe tbody tr th:only-of-type {\n",
              "        vertical-align: middle;\n",
              "    }\n",
              "\n",
              "    .dataframe tbody tr th {\n",
              "        vertical-align: top;\n",
              "    }\n",
              "\n",
              "    .dataframe thead th {\n",
              "        text-align: right;\n",
              "    }\n",
              "</style>\n",
              "<table border=\"1\" class=\"dataframe\">\n",
              "  <thead>\n",
              "    <tr style=\"text-align: right;\">\n",
              "      <th></th>\n",
              "      <th>CoachID</th>\n",
              "      <th>CompatibilityScore</th>\n",
              "    </tr>\n",
              "  </thead>\n",
              "  <tbody>\n",
              "    <tr>\n",
              "      <th>4</th>\n",
              "      <td>C5</td>\n",
              "      <td>4.637507</td>\n",
              "    </tr>\n",
              "    <tr>\n",
              "      <th>0</th>\n",
              "      <td>C1</td>\n",
              "      <td>4.239646</td>\n",
              "    </tr>\n",
              "    <tr>\n",
              "      <th>8</th>\n",
              "      <td>C9</td>\n",
              "      <td>4.229666</td>\n",
              "    </tr>\n",
              "    <tr>\n",
              "      <th>5</th>\n",
              "      <td>C6</td>\n",
              "      <td>4.174442</td>\n",
              "    </tr>\n",
              "    <tr>\n",
              "      <th>9</th>\n",
              "      <td>C10</td>\n",
              "      <td>4.156449</td>\n",
              "    </tr>\n",
              "    <tr>\n",
              "      <th>1</th>\n",
              "      <td>C2</td>\n",
              "      <td>4.129419</td>\n",
              "    </tr>\n",
              "    <tr>\n",
              "      <th>2</th>\n",
              "      <td>C3</td>\n",
              "      <td>4.129419</td>\n",
              "    </tr>\n",
              "    <tr>\n",
              "      <th>7</th>\n",
              "      <td>C8</td>\n",
              "      <td>4.129419</td>\n",
              "    </tr>\n",
              "    <tr>\n",
              "      <th>3</th>\n",
              "      <td>C4</td>\n",
              "      <td>4.121680</td>\n",
              "    </tr>\n",
              "    <tr>\n",
              "      <th>6</th>\n",
              "      <td>C7</td>\n",
              "      <td>4.121680</td>\n",
              "    </tr>\n",
              "  </tbody>\n",
              "</table>\n",
              "</div>\n",
              "    <div class=\"colab-df-buttons\">\n",
              "\n",
              "  <div class=\"colab-df-container\">\n",
              "    <button class=\"colab-df-convert\" onclick=\"convertToInteractive('df-bc6e20e0-f5a5-43c9-9ff5-75c5a4148699')\"\n",
              "            title=\"Convert this dataframe to an interactive table.\"\n",
              "            style=\"display:none;\">\n",
              "\n",
              "  <svg xmlns=\"http://www.w3.org/2000/svg\" height=\"24px\" viewBox=\"0 -960 960 960\">\n",
              "    <path d=\"M120-120v-720h720v720H120Zm60-500h600v-160H180v160Zm220 220h160v-160H400v160Zm0 220h160v-160H400v160ZM180-400h160v-160H180v160Zm440 0h160v-160H620v160ZM180-180h160v-160H180v160Zm440 0h160v-160H620v160Z\"/>\n",
              "  </svg>\n",
              "    </button>\n",
              "\n",
              "  <style>\n",
              "    .colab-df-container {\n",
              "      display:flex;\n",
              "      gap: 12px;\n",
              "    }\n",
              "\n",
              "    .colab-df-convert {\n",
              "      background-color: #E8F0FE;\n",
              "      border: none;\n",
              "      border-radius: 50%;\n",
              "      cursor: pointer;\n",
              "      display: none;\n",
              "      fill: #1967D2;\n",
              "      height: 32px;\n",
              "      padding: 0 0 0 0;\n",
              "      width: 32px;\n",
              "    }\n",
              "\n",
              "    .colab-df-convert:hover {\n",
              "      background-color: #E2EBFA;\n",
              "      box-shadow: 0px 1px 2px rgba(60, 64, 67, 0.3), 0px 1px 3px 1px rgba(60, 64, 67, 0.15);\n",
              "      fill: #174EA6;\n",
              "    }\n",
              "\n",
              "    .colab-df-buttons div {\n",
              "      margin-bottom: 4px;\n",
              "    }\n",
              "\n",
              "    [theme=dark] .colab-df-convert {\n",
              "      background-color: #3B4455;\n",
              "      fill: #D2E3FC;\n",
              "    }\n",
              "\n",
              "    [theme=dark] .colab-df-convert:hover {\n",
              "      background-color: #434B5C;\n",
              "      box-shadow: 0px 1px 3px 1px rgba(0, 0, 0, 0.15);\n",
              "      filter: drop-shadow(0px 1px 2px rgba(0, 0, 0, 0.3));\n",
              "      fill: #FFFFFF;\n",
              "    }\n",
              "  </style>\n",
              "\n",
              "    <script>\n",
              "      const buttonEl =\n",
              "        document.querySelector('#df-bc6e20e0-f5a5-43c9-9ff5-75c5a4148699 button.colab-df-convert');\n",
              "      buttonEl.style.display =\n",
              "        google.colab.kernel.accessAllowed ? 'block' : 'none';\n",
              "\n",
              "      async function convertToInteractive(key) {\n",
              "        const element = document.querySelector('#df-bc6e20e0-f5a5-43c9-9ff5-75c5a4148699');\n",
              "        const dataTable =\n",
              "          await google.colab.kernel.invokeFunction('convertToInteractive',\n",
              "                                                    [key], {});\n",
              "        if (!dataTable) return;\n",
              "\n",
              "        const docLinkHtml = 'Like what you see? Visit the ' +\n",
              "          '<a target=\"_blank\" href=https://colab.research.google.com/notebooks/data_table.ipynb>data table notebook</a>'\n",
              "          + ' to learn more about interactive tables.';\n",
              "        element.innerHTML = '';\n",
              "        dataTable['output_type'] = 'display_data';\n",
              "        await google.colab.output.renderOutput(dataTable, element);\n",
              "        const docLink = document.createElement('div');\n",
              "        docLink.innerHTML = docLinkHtml;\n",
              "        element.appendChild(docLink);\n",
              "      }\n",
              "    </script>\n",
              "  </div>\n",
              "\n",
              "\n",
              "<div id=\"df-5a22923a-2b7f-4668-8441-22c0c577f303\">\n",
              "  <button class=\"colab-df-quickchart\" onclick=\"quickchart('df-5a22923a-2b7f-4668-8441-22c0c577f303')\"\n",
              "            title=\"Suggest charts\"\n",
              "            style=\"display:none;\">\n",
              "\n",
              "<svg xmlns=\"http://www.w3.org/2000/svg\" height=\"24px\"viewBox=\"0 0 24 24\"\n",
              "     width=\"24px\">\n",
              "    <g>\n",
              "        <path d=\"M19 3H5c-1.1 0-2 .9-2 2v14c0 1.1.9 2 2 2h14c1.1 0 2-.9 2-2V5c0-1.1-.9-2-2-2zM9 17H7v-7h2v7zm4 0h-2V7h2v10zm4 0h-2v-4h2v4z\"/>\n",
              "    </g>\n",
              "</svg>\n",
              "  </button>\n",
              "\n",
              "<style>\n",
              "  .colab-df-quickchart {\n",
              "      --bg-color: #E8F0FE;\n",
              "      --fill-color: #1967D2;\n",
              "      --hover-bg-color: #E2EBFA;\n",
              "      --hover-fill-color: #174EA6;\n",
              "      --disabled-fill-color: #AAA;\n",
              "      --disabled-bg-color: #DDD;\n",
              "  }\n",
              "\n",
              "  [theme=dark] .colab-df-quickchart {\n",
              "      --bg-color: #3B4455;\n",
              "      --fill-color: #D2E3FC;\n",
              "      --hover-bg-color: #434B5C;\n",
              "      --hover-fill-color: #FFFFFF;\n",
              "      --disabled-bg-color: #3B4455;\n",
              "      --disabled-fill-color: #666;\n",
              "  }\n",
              "\n",
              "  .colab-df-quickchart {\n",
              "    background-color: var(--bg-color);\n",
              "    border: none;\n",
              "    border-radius: 50%;\n",
              "    cursor: pointer;\n",
              "    display: none;\n",
              "    fill: var(--fill-color);\n",
              "    height: 32px;\n",
              "    padding: 0;\n",
              "    width: 32px;\n",
              "  }\n",
              "\n",
              "  .colab-df-quickchart:hover {\n",
              "    background-color: var(--hover-bg-color);\n",
              "    box-shadow: 0 1px 2px rgba(60, 64, 67, 0.3), 0 1px 3px 1px rgba(60, 64, 67, 0.15);\n",
              "    fill: var(--button-hover-fill-color);\n",
              "  }\n",
              "\n",
              "  .colab-df-quickchart-complete:disabled,\n",
              "  .colab-df-quickchart-complete:disabled:hover {\n",
              "    background-color: var(--disabled-bg-color);\n",
              "    fill: var(--disabled-fill-color);\n",
              "    box-shadow: none;\n",
              "  }\n",
              "\n",
              "  .colab-df-spinner {\n",
              "    border: 2px solid var(--fill-color);\n",
              "    border-color: transparent;\n",
              "    border-bottom-color: var(--fill-color);\n",
              "    animation:\n",
              "      spin 1s steps(1) infinite;\n",
              "  }\n",
              "\n",
              "  @keyframes spin {\n",
              "    0% {\n",
              "      border-color: transparent;\n",
              "      border-bottom-color: var(--fill-color);\n",
              "      border-left-color: var(--fill-color);\n",
              "    }\n",
              "    20% {\n",
              "      border-color: transparent;\n",
              "      border-left-color: var(--fill-color);\n",
              "      border-top-color: var(--fill-color);\n",
              "    }\n",
              "    30% {\n",
              "      border-color: transparent;\n",
              "      border-left-color: var(--fill-color);\n",
              "      border-top-color: var(--fill-color);\n",
              "      border-right-color: var(--fill-color);\n",
              "    }\n",
              "    40% {\n",
              "      border-color: transparent;\n",
              "      border-right-color: var(--fill-color);\n",
              "      border-top-color: var(--fill-color);\n",
              "    }\n",
              "    60% {\n",
              "      border-color: transparent;\n",
              "      border-right-color: var(--fill-color);\n",
              "    }\n",
              "    80% {\n",
              "      border-color: transparent;\n",
              "      border-right-color: var(--fill-color);\n",
              "      border-bottom-color: var(--fill-color);\n",
              "    }\n",
              "    90% {\n",
              "      border-color: transparent;\n",
              "      border-bottom-color: var(--fill-color);\n",
              "    }\n",
              "  }\n",
              "</style>\n",
              "\n",
              "  <script>\n",
              "    async function quickchart(key) {\n",
              "      const quickchartButtonEl =\n",
              "        document.querySelector('#' + key + ' button');\n",
              "      quickchartButtonEl.disabled = true;  // To prevent multiple clicks.\n",
              "      quickchartButtonEl.classList.add('colab-df-spinner');\n",
              "      try {\n",
              "        const charts = await google.colab.kernel.invokeFunction(\n",
              "            'suggestCharts', [key], {});\n",
              "      } catch (error) {\n",
              "        console.error('Error during call to suggestCharts:', error);\n",
              "      }\n",
              "      quickchartButtonEl.classList.remove('colab-df-spinner');\n",
              "      quickchartButtonEl.classList.add('colab-df-quickchart-complete');\n",
              "    }\n",
              "    (() => {\n",
              "      let quickchartButtonEl =\n",
              "        document.querySelector('#df-5a22923a-2b7f-4668-8441-22c0c577f303 button');\n",
              "      quickchartButtonEl.style.display =\n",
              "        google.colab.kernel.accessAllowed ? 'block' : 'none';\n",
              "    })();\n",
              "  </script>\n",
              "</div>\n",
              "\n",
              "    </div>\n",
              "  </div>\n"
            ],
            "application/vnd.google.colaboratory.intrinsic+json": {
              "type": "dataframe",
              "summary": "{\n  \"name\": \"display(new_rankings_df\",\n  \"rows\": 10,\n  \"fields\": [\n    {\n      \"column\": \"CoachID\",\n      \"properties\": {\n        \"dtype\": \"string\",\n        \"num_unique_values\": 10,\n        \"samples\": [\n          \"C4\",\n          \"C1\",\n          \"C2\"\n        ],\n        \"semantic_type\": \"\",\n        \"description\": \"\"\n      }\n    },\n    {\n      \"column\": \"CompatibilityScore\",\n      \"properties\": {\n        \"dtype\": \"float32\",\n        \"num_unique_values\": 7,\n        \"samples\": [\n          4.637507438659668,\n          4.239645957946777,\n          4.129419326782227\n        ],\n        \"semantic_type\": \"\",\n        \"description\": \"\"\n      }\n    }\n  ]\n}"
            }
          },
          "metadata": {}
        }
      ]
    },
    {
      "source": [
        "from matplotlib import pyplot as plt\n",
        "_df_1['CompatibilityScore'].plot(kind='line', figsize=(8, 4), title='CompatibilityScore')\n",
        "plt.gca().spines[['top', 'right']].set_visible(False)"
      ],
      "cell_type": "code",
      "metadata": {
        "colab": {
          "base_uri": "https://localhost:8080/",
          "height": 391
        },
        "id": "ES71ILcCG84_",
        "outputId": "12f9fc4e-c482-4eb8-c532-12783dad5fc4"
      },
      "execution_count": null,
      "outputs": [
        {
          "output_type": "display_data",
          "data": {
            "text/plain": [
              "<Figure size 800x400 with 1 Axes>"
            ],
            "image/png": "[encoded data removed]"
          },
          "metadata": {}
        }
      ]
    },
    {
      "source": [
        "from matplotlib import pyplot as plt\n",
        "_df_0['CompatibilityScore'].plot(kind='hist', bins=20, title='CompatibilityScore')\n",
        "plt.gca().spines[['top', 'right',]].set_visible(False)"
      ],
      "cell_type": "code",
      "metadata": {
        "colab": {
          "base_uri": "https://localhost:8080/",
          "height": 452
        },
        "id": "CxBm8Dg6G8DR",
        "outputId": "1bb91f38-5109-48a5-9915-156150d8b497"
      },
      "execution_count": null,
      "outputs": [
        {
          "output_type": "display_data",
          "data": {
            "text/plain": [
              "<Figure size 640x480 with 1 Axes>"
            ],
            "image/png": "[encoded data removed]"
          },
          "metadata": {}
        }
      ]
    }
  ]
}